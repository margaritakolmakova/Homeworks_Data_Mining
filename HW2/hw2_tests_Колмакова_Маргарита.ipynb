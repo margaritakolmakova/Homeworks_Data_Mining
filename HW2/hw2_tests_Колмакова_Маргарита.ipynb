{
  "cells": [
    {
      "cell_type": "markdown",
      "metadata": {
        "id": "NUv1XACHe7zK"
      },
      "source": [
        "# Домашнее Задание №2\n",
        "\n"
      ]
    },
    {
      "cell_type": "markdown",
      "metadata": {
        "id": "qROwB9AHDuev"
      },
      "source": [
        "*Выполнила: Колмакова Маргарита Павловна*"
      ]
    },
    {
      "cell_type": "markdown",
      "metadata": {
        "id": "HALykPFtX3yt"
      },
      "source": [
        "- Ниже приведены несколько датасетов, их необходимо проанализировать и ответить на определенные вопросы\n",
        "- Для ответа на эти вопросы нужно сделать следующее\n",
        "- Сделать хорошую визуализацию исследуемых переменных\n",
        "- Для каждой из задач подобрать **все подходящие** параметрические и непараметрические критерии, проанализировать результаты этих критериев (тут имеет смысл обернуть все критерии в фунцию или словарь - как удобно)\n",
        "- Для каждого набора данных проверьте нормальность выборки и допустимость использования параметрических критериев (можно прокомментировать гистограмму и воспользоваться соответствующими критериями согласия)\n",
        "- Не забудьте оставить краткие комментарии к вашим действиям и сформулировать выводы, которые вы сделали в ходе анализа\n"
      ]
    },
    {
      "cell_type": "markdown",
      "metadata": {
        "id": "179pmCzpDuey"
      },
      "source": [
        "## Связанные выборки"
      ]
    },
    {
      "cell_type": "markdown",
      "metadata": {
        "id": "tRwTUweFXO-F"
      },
      "source": [
        "### seattle\n",
        "В файле seattle.txt записаны цены на недвижимость в одном из районов Сиэтла в 2001 году и в 2002 году (объекты недвижимости выбирались случайно). Изменились ли в среднем цены в этом районе за год?\n"
      ]
    },
    {
      "cell_type": "code",
      "execution_count": null,
      "metadata": {
        "id": "2ZsrEwzhDue0"
      },
      "outputs": [],
      "source": [
        "import pandas as pd\n",
        "import numpy as np\n",
        "\n",
        "from scipy import stats\n",
        "import scipy.stats\n",
        "\n",
        "import matplotlib.pyplot as plt\n",
        "import seaborn as sns"
      ]
    },
    {
      "cell_type": "code",
      "execution_count": null,
      "metadata": {
        "colab": {
          "base_uri": "https://localhost:8080/",
          "height": 202
        },
        "id": "VOIIliUEeqkE",
        "outputId": "4385e026-a7d2-4191-ee81-1527b30106db"
      },
      "outputs": [
        {
          "data": {
            "text/html": [
              "<div>\n",
              "<style scoped>\n",
              "    .dataframe tbody tr th:only-of-type {\n",
              "        vertical-align: middle;\n",
              "    }\n",
              "\n",
              "    .dataframe tbody tr th {\n",
              "        vertical-align: top;\n",
              "    }\n",
              "\n",
              "    .dataframe thead th {\n",
              "        text-align: right;\n",
              "    }\n",
              "</style>\n",
              "<table border=\"1\" class=\"dataframe\">\n",
              "  <thead>\n",
              "    <tr style=\"text-align: right;\">\n",
              "      <th></th>\n",
              "      <th>Price</th>\n",
              "      <th>Year</th>\n",
              "    </tr>\n",
              "  </thead>\n",
              "  <tbody>\n",
              "    <tr>\n",
              "      <th>0</th>\n",
              "      <td>142.0</td>\n",
              "      <td>2002</td>\n",
              "    </tr>\n",
              "    <tr>\n",
              "      <th>1</th>\n",
              "      <td>232.0</td>\n",
              "      <td>2002</td>\n",
              "    </tr>\n",
              "    <tr>\n",
              "      <th>2</th>\n",
              "      <td>132.5</td>\n",
              "      <td>2002</td>\n",
              "    </tr>\n",
              "    <tr>\n",
              "      <th>3</th>\n",
              "      <td>200.0</td>\n",
              "      <td>2002</td>\n",
              "    </tr>\n",
              "    <tr>\n",
              "      <th>4</th>\n",
              "      <td>362.0</td>\n",
              "      <td>2002</td>\n",
              "    </tr>\n",
              "  </tbody>\n",
              "</table>\n",
              "</div>"
            ],
            "text/plain": [
              "   Price  Year\n",
              "0  142.0  2002\n",
              "1  232.0  2002\n",
              "2  132.5  2002\n",
              "3  200.0  2002\n",
              "4  362.0  2002"
            ]
          },
          "execution_count": 9,
          "metadata": {},
          "output_type": "execute_result"
        }
      ],
      "source": [
        "df = pd.read_csv('seattle.txt', sep='\\t')\n",
        "df.head()"
      ]
    },
    {
      "cell_type": "code",
      "execution_count": null,
      "metadata": {
        "id": "XPb4dwX-Due6",
        "outputId": "55391b76-bca5-4757-ff9f-13c95998a256"
      },
      "outputs": [
        {
          "data": {
            "text/plain": [
              "(100, 2)"
            ]
          },
          "execution_count": 10,
          "metadata": {},
          "output_type": "execute_result"
        }
      ],
      "source": [
        "df.shape"
      ]
    },
    {
      "cell_type": "code",
      "execution_count": null,
      "metadata": {
        "id": "Wb6Xj_mnDue8",
        "outputId": "c9a0b583-0fa3-4586-b1c5-48d3166d927d"
      },
      "outputs": [
        {
          "data": {
            "text/plain": [
              "Price    0\n",
              "Year     0\n",
              "dtype: int64"
            ]
          },
          "execution_count": 11,
          "metadata": {},
          "output_type": "execute_result"
        }
      ],
      "source": [
        "df.isna().sum()\n",
        "# в данных нет пропусков"
      ]
    },
    {
      "cell_type": "code",
      "execution_count": null,
      "metadata": {
        "id": "rUcimSCzDue-",
        "outputId": "d67f71e4-f322-4e28-850c-6fd1e23ac0bb"
      },
      "outputs": [
        {
          "data": {
            "text/html": [
              "<div>\n",
              "<style scoped>\n",
              "    .dataframe tbody tr th:only-of-type {\n",
              "        vertical-align: middle;\n",
              "    }\n",
              "\n",
              "    .dataframe tbody tr th {\n",
              "        vertical-align: top;\n",
              "    }\n",
              "\n",
              "    .dataframe thead th {\n",
              "        text-align: right;\n",
              "    }\n",
              "</style>\n",
              "<table border=\"1\" class=\"dataframe\">\n",
              "  <thead>\n",
              "    <tr style=\"text-align: right;\">\n",
              "      <th></th>\n",
              "      <th>count</th>\n",
              "      <th>mean</th>\n",
              "      <th>std</th>\n",
              "      <th>min</th>\n",
              "      <th>25%</th>\n",
              "      <th>50%</th>\n",
              "      <th>75%</th>\n",
              "      <th>max</th>\n",
              "    </tr>\n",
              "    <tr>\n",
              "      <th>Year</th>\n",
              "      <th></th>\n",
              "      <th></th>\n",
              "      <th></th>\n",
              "      <th></th>\n",
              "      <th></th>\n",
              "      <th></th>\n",
              "      <th></th>\n",
              "      <th></th>\n",
              "    </tr>\n",
              "  </thead>\n",
              "  <tbody>\n",
              "    <tr>\n",
              "      <th>2001</th>\n",
              "      <td>50.0</td>\n",
              "      <td>288.92654</td>\n",
              "      <td>157.777757</td>\n",
              "      <td>50.0</td>\n",
              "      <td>190.25</td>\n",
              "      <td>260.800</td>\n",
              "      <td>406.7375</td>\n",
              "      <td>710.0</td>\n",
              "    </tr>\n",
              "    <tr>\n",
              "      <th>2002</th>\n",
              "      <td>50.0</td>\n",
              "      <td>329.25714</td>\n",
              "      <td>316.830045</td>\n",
              "      <td>50.0</td>\n",
              "      <td>176.20</td>\n",
              "      <td>244.925</td>\n",
              "      <td>328.6250</td>\n",
              "      <td>1850.0</td>\n",
              "    </tr>\n",
              "  </tbody>\n",
              "</table>\n",
              "</div>"
            ],
            "text/plain": [
              "      count       mean         std   min     25%      50%       75%     max\n",
              "Year                                                                       \n",
              "2001   50.0  288.92654  157.777757  50.0  190.25  260.800  406.7375   710.0\n",
              "2002   50.0  329.25714  316.830045  50.0  176.20  244.925  328.6250  1850.0"
            ]
          },
          "execution_count": 15,
          "metadata": {},
          "output_type": "execute_result"
        }
      ],
      "source": [
        "df.groupby('Year')['Price'].describe()\n",
        "# значение средней цены на недвижимость изменилось в 2002 году по сравнению с 2001, оно увеличилось с 288.9 до 329.3"
      ]
    },
    {
      "cell_type": "code",
      "execution_count": null,
      "metadata": {
        "id": "5vftCiM5Due_",
        "outputId": "c6e93f1b-a15b-4ddb-a701-df6b61418ae1"
      },
      "outputs": [
        {
          "data": {
            "text/plain": [
              "Year\n",
              "2001    260.800\n",
              "2002    244.925\n",
              "Name: Price, dtype: float64"
            ]
          },
          "execution_count": 16,
          "metadata": {},
          "output_type": "execute_result"
        }
      ],
      "source": [
        "df.groupby('Year')['Price'].median()"
      ]
    },
    {
      "cell_type": "markdown",
      "metadata": {
        "id": "64gCBFnmDufA"
      },
      "source": [
        "**(1 БАЛЛ)**. Визуализируем значения цен (переменной `Price`) за 2001 и 2002 годы. Постройте несколько графиков (boxplot, violinplot). Сделайте выводы о том, как меняется распределение цены в зависимости от года. Сделайте выводы касательно среднего и дисперсии. Предположите, глядя на графики, изменилась ли цена?"
      ]
    },
    {
      "cell_type": "code",
      "execution_count": null,
      "metadata": {
        "id": "e64YWNG0DufA",
        "outputId": "403b7b50-ae9b-4608-b55b-da6d40cf0268"
      },
      "outputs": [
        {
          "data": {
            "image/png": "[encoded data removed]",
            "text/plain": [
              "<Figure size 500x500 with 1 Axes>"
            ]
          },
          "metadata": {},
          "output_type": "display_data"
        }
      ],
      "source": [
        "sns.catplot(x = \"Year\", y = \"Price\", data=df, kind=\"box\")\n",
        "plt.xlabel('Год')\n",
        "plt.ylabel('Цена')\n",
        "plt.show()"
      ]
    },
    {
      "cell_type": "code",
      "execution_count": null,
      "metadata": {
        "id": "orJe1BuqDufB",
        "outputId": "b18eb644-959e-4fa6-c37d-7b915672514d"
      },
      "outputs": [
        {
          "data": {
            "image/png": "[encoded data removed]",
            "text/plain": [
              "<Figure size 640x480 with 1 Axes>"
            ]
          },
          "metadata": {},
          "output_type": "display_data"
        }
      ],
      "source": [
        "sns.violinplot(x = \"Year\", y = \"Price\", data=df, inner=\"quartile\")\n",
        "plt.xlabel('Год')\n",
        "plt.ylabel('Цена')\n",
        "plt.show()"
      ]
    },
    {
      "cell_type": "markdown",
      "metadata": {
        "id": "Z_PlrLM3DufB"
      },
      "source": [
        "**ВЫВОДЫ:**\n",
        "\n",
        "Заметим, что распределение значений цен на недвижимость в 2001 и 2002 гг. разное:\n",
        "1. Разброс (дисперсия) параметра Price в зависимости от года меняется: в 2001 не было сильных отклонений (выбросов), что можно легко заметить по графику boxplot - нет точек за пределами ящика с усами, когда в 2002 году появляются наблюдения, значения которых находятся за пределами верхней границы ящика (обычно это Q3 + 1,5IQR), то есть в 2002 году дисперсия увеличилась (оранжевый график violinplot так же показывает увеличение дисперсии - фигура более вытянутая).\n",
        "\n",
        "\n",
        "2. Более того, значение среднего в 2002 году увеличилось, так как оно чувствительно к появившимся выбросам.\n",
        "\n",
        "\n",
        "3. Медианное значение цены почти не изменилось - проведенная черта внутри обоих ящиков находится примерно на одинаковом уровне (медиана устойчива к выбросам).\n",
        "\n",
        "\n",
        "4. Изменилась ли цена? Выборка, на основе которой построены графики, генерируется случайным образом, и изменение цены можно доказать, проверив гипотезы об изменении средней в генеральной совокупности или же получив всю генеральную совокупность. Визуально можем сказать, что разброс данных изменился и определенные сдвиги на графиках есть, что может говорить об изменении цены."
      ]
    },
    {
      "cell_type": "markdown",
      "metadata": {
        "id": "KnuUiwIyDufC"
      },
      "source": [
        "**(2 БАЛЛА)**. Сформулируйте нулевую и альтернативную гипотезу. Выберите $\\alpha$. Обоснуйте свой выбор касательно альтернативы (одно- или двусторонняя гипотеза). Выберите критерий, которым Вы будете проверять гипотезу, выпишите его формулу и распределение, которому этот критерий подчиняется при справедливости нулевой гипотезы. Обоснуйте свой выбор. Постарайтесь красиво записать гипотезы (посмотрите в оформление ячеек из тетрадки с семинара по гипотезам)"
      ]
    },
    {
      "cell_type": "markdown",
      "metadata": {
        "id": "WUH8bWxeDufC"
      },
      "source": [
        "МЕСТО ДЛЯ ВАШИХ ВЫВОДОВ И ГИПОТЕЗ\n",
        "\n",
        "**Мне интересно узнать, изменилась ли в среднем цена недвижимости?**\n",
        "\n",
        "Рассмотрим изменение цен на недвижимость в одном из районов Сиэтла в 2001 году и в 2002 гг.\n",
        "$$d_{i\\ }=x_{i}-y_{i}$$\n",
        "\n",
        "Дисперсия изменения:\n",
        "$$\n",
        "s^{2}=\\frac{1}{n-1} \\sum_{i=1}^{n}\\left(d_{i}-\\bar{d}\\right)^{2}\n",
        "$$\n",
        "\n",
        "Буду использовать $t$-тест для проверки гипотезы об отсутствии изменения.\n",
        "\n",
        "Обозначим **𝛼 = 0,05**\n",
        "\n",
        "Сформулирую нулевую гипотезу:\n",
        "$$\n",
        "H_0:\\hspace{2mm} \\mu_1-\\mu_2 = 0 \\hspace{2mm} \\text{в среднем цена не изменилась}\n",
        "\\\n",
        "$$\n",
        "\n",
        "Альтернативная гипотеза:\n",
        "$$\n",
        "H_1:\\hspace{2mm}\\mu_1-\\mu_2  \\ne 0 \\hspace{2mm} \\text{есть различия}\n",
        "\\\n",
        "$$\n",
        "\n",
        "\n",
        "Предположим, мы не знаем про сильно отклоняющиеся значения в 2002 году, но мы хотим узнать изменилась ли в среднем цена на недвижимость за год, поэтому протестируем двустороннюю гипотезу и выявим значимо или нет изменение цены в среднем.\n",
        "\n",
        "Критерий:\n",
        "$$\n",
        "t\\ =\\ \\dfrac{\\bar{d}-0}{\\sqrt{\\dfrac{s^{2}}{n}}}\\sim t\\left(n-1\\right)\n",
        "$$\n",
        "заметим, что при справедливости нулевой гипотезы критерий имеет распределение Стьюдента с n-2 степенями свободы."
      ]
    },
    {
      "cell_type": "code",
      "execution_count": null,
      "metadata": {
        "id": "OYCE05M4DufC",
        "outputId": "1c7b4ac9-9f0f-459f-83f3-66dc2d318011"
      },
      "outputs": [
        {
          "data": {
            "image/png": "[encoded data removed]",
            "text/plain": [
              "<Figure size 640x480 with 1 Axes>"
            ]
          },
          "metadata": {},
          "output_type": "display_data"
        }
      ],
      "source": [
        "d = np.array(df['Price'][:50]) - np.array(df['Price'][50:])\n",
        "plt.hist(d, bins=20, density=True, color = \"orange\")\n",
        "plt.show()"
      ]
    },
    {
      "cell_type": "markdown",
      "metadata": {
        "id": "9L3oVB6EDufD"
      },
      "source": [
        "**Мы можем сказать, что распределение разности оценок похоже на нормальное ==> можем использовать t-тест.**"
      ]
    },
    {
      "cell_type": "markdown",
      "metadata": {
        "id": "l6cUOXyyDufD"
      },
      "source": [
        "**(2 БАЛЛА)** Реализуйте Ваш критерий и сам механизм проверки гипотезы вручную. Сделайте вывод об отвержении или не отвержении гипотезы. Сравните свои результаты со встроенным тестом из пакета scipy.stats (если он там есть)"
      ]
    },
    {
      "cell_type": "code",
      "execution_count": null,
      "metadata": {
        "id": "qAX6CHmfDufE",
        "outputId": "6e4a6b54-88f4-43bf-907f-6e4b4fda7474"
      },
      "outputs": [
        {
          "name": "stdout",
          "output_type": "stream",
          "text": [
            "0.9054576456583359 0.369653808711352\n"
          ]
        }
      ],
      "source": [
        "# статистика и p-value для зависимых выборок\n",
        "t_obs = d.mean()/np.sqrt(d.var(ddof=1)/d.size)\n",
        "p_val = 2*(stats.t.cdf(-np.abs(t_obs), d.size-1))\n",
        "\n",
        "print(t_obs, p_val)"
      ]
    },
    {
      "cell_type": "code",
      "execution_count": null,
      "metadata": {
        "id": "3TBD0xr7DufF",
        "outputId": "52ddf13a-7a6b-43c6-8fcf-ddec0cafed88"
      },
      "outputs": [
        {
          "data": {
            "text/plain": [
              "Ttest_relResult(statistic=-0.9054576456583359, pvalue=0.369653808711352)"
            ]
          },
          "execution_count": 21,
          "metadata": {},
          "output_type": "execute_result"
        }
      ],
      "source": [
        "# тест для зависимых выборок из пакета scipy.stats\n",
        "x = df[df['Year']==2001]['Price']\n",
        "y = df[df['Year']==2002]['Price']\n",
        "\n",
        "stats.ttest_rel(x, y)"
      ]
    },
    {
      "cell_type": "code",
      "execution_count": null,
      "metadata": {
        "id": "8jH0_10SDufG",
        "outputId": "3f41d5a8-d40c-4143-f453-1ea81e7819ec"
      },
      "outputs": [
        {
          "name": "stdout",
          "output_type": "stream",
          "text": [
            "True\n"
          ]
        }
      ],
      "source": [
        "pvalue=0.369653808711352\n",
        "alpha = 0.05\n",
        "print(0.369653808711352 > 0.05)"
      ]
    },
    {
      "cell_type": "markdown",
      "metadata": {
        "id": "YKTMI1F-DufG"
      },
      "source": [
        "МЕСТО ДЛЯ ВАШИХ ВЫВОДОВ\n",
        "\n",
        "1. Мы **не отвергаем нулевую гипотезу** о равенстве средних, так как значение p-value оказалось больше альфа (0.37> 0.05). Разница значений средней цены в 2 рассмотренных года статистически незначима.\n",
        "\n",
        "\n",
        "2. В генеральной совокупности средние значения цены в 2001 и 2002 гг. принимают одинаковые значения.\n",
        "\n"
      ]
    },
    {
      "cell_type": "markdown",
      "metadata": {
        "id": "D8fGLSlqDufH"
      },
      "source": [
        "## Несвязанные выборки"
      ]
    },
    {
      "cell_type": "markdown",
      "metadata": {
        "id": "ew4ByKQOXjyD"
      },
      "source": [
        "### mtcars\n",
        "В файле mtcars.csv находятся данные из американского журнала Motor Trend 1974 года. Они описывают расход топлива в зависимости от 10 характеристик автомобиля (все автомобили 1973-1974 года). А именно, в данных вы найдете следующие столбцы:\n",
        "1. mpg — расход топлива (миль/галлон);\n",
        "2. cyl — количество цилиндров мотора;\n",
        "3. disp — объем мотор (куб. дюйм);\n",
        "4. hp — мощность мотора (в лошадиных силах);\n",
        "5. drat — передаточное число редуктора заднего моста;\n",
        "6. wt — вес (тысяч фунтов);\n",
        "7. qsec — время, за которое автомобиль проезжает 1/4 мили;\n",
        "8. vs — тип двигателя (0 = V-образный, 1 = рядный);\n",
        "9. am — тип коробки передач (0 = автоматическая, 1 = ручная);\n",
        "10. gear — количество передних передач;\n",
        "11. carb — количество карбюраторов.\n",
        "\n"
      ]
    },
    {
      "cell_type": "code",
      "execution_count": null,
      "metadata": {
        "colab": {
          "base_uri": "https://localhost:8080/",
          "height": 202
        },
        "id": "OqCi07e-XsGv",
        "outputId": "a07743a7-1750-4230-bc51-bfafe58aac86"
      },
      "outputs": [
        {
          "data": {
            "text/html": [
              "<div>\n",
              "<style scoped>\n",
              "    .dataframe tbody tr th:only-of-type {\n",
              "        vertical-align: middle;\n",
              "    }\n",
              "\n",
              "    .dataframe tbody tr th {\n",
              "        vertical-align: top;\n",
              "    }\n",
              "\n",
              "    .dataframe thead th {\n",
              "        text-align: right;\n",
              "    }\n",
              "</style>\n",
              "<table border=\"1\" class=\"dataframe\">\n",
              "  <thead>\n",
              "    <tr style=\"text-align: right;\">\n",
              "      <th></th>\n",
              "      <th>mpg</th>\n",
              "      <th>cyl</th>\n",
              "      <th>disp</th>\n",
              "      <th>hp</th>\n",
              "      <th>drat</th>\n",
              "      <th>wt</th>\n",
              "      <th>qsec</th>\n",
              "      <th>vs</th>\n",
              "      <th>am</th>\n",
              "      <th>gear</th>\n",
              "      <th>carb</th>\n",
              "    </tr>\n",
              "    <tr>\n",
              "      <th>manufacturer</th>\n",
              "      <th></th>\n",
              "      <th></th>\n",
              "      <th></th>\n",
              "      <th></th>\n",
              "      <th></th>\n",
              "      <th></th>\n",
              "      <th></th>\n",
              "      <th></th>\n",
              "      <th></th>\n",
              "      <th></th>\n",
              "      <th></th>\n",
              "    </tr>\n",
              "  </thead>\n",
              "  <tbody>\n",
              "    <tr>\n",
              "      <th>Mazda RX4 Wag</th>\n",
              "      <td>21.0</td>\n",
              "      <td>6</td>\n",
              "      <td>160.0</td>\n",
              "      <td>110</td>\n",
              "      <td>3.90</td>\n",
              "      <td>2.875</td>\n",
              "      <td>17.02</td>\n",
              "      <td>0</td>\n",
              "      <td>1</td>\n",
              "      <td>4</td>\n",
              "      <td>4</td>\n",
              "    </tr>\n",
              "    <tr>\n",
              "      <th>Camaro Z28</th>\n",
              "      <td>13.3</td>\n",
              "      <td>8</td>\n",
              "      <td>350.0</td>\n",
              "      <td>245</td>\n",
              "      <td>3.73</td>\n",
              "      <td>3.840</td>\n",
              "      <td>15.41</td>\n",
              "      <td>0</td>\n",
              "      <td>0</td>\n",
              "      <td>3</td>\n",
              "      <td>4</td>\n",
              "    </tr>\n",
              "    <tr>\n",
              "      <th>Merc 450SE</th>\n",
              "      <td>16.4</td>\n",
              "      <td>8</td>\n",
              "      <td>275.8</td>\n",
              "      <td>180</td>\n",
              "      <td>3.07</td>\n",
              "      <td>4.070</td>\n",
              "      <td>17.40</td>\n",
              "      <td>0</td>\n",
              "      <td>0</td>\n",
              "      <td>3</td>\n",
              "      <td>3</td>\n",
              "    </tr>\n",
              "    <tr>\n",
              "      <th>Valiant</th>\n",
              "      <td>18.1</td>\n",
              "      <td>6</td>\n",
              "      <td>225.0</td>\n",
              "      <td>105</td>\n",
              "      <td>2.76</td>\n",
              "      <td>3.460</td>\n",
              "      <td>20.22</td>\n",
              "      <td>1</td>\n",
              "      <td>0</td>\n",
              "      <td>3</td>\n",
              "      <td>1</td>\n",
              "    </tr>\n",
              "    <tr>\n",
              "      <th>Merc 280</th>\n",
              "      <td>19.2</td>\n",
              "      <td>6</td>\n",
              "      <td>167.6</td>\n",
              "      <td>123</td>\n",
              "      <td>3.92</td>\n",
              "      <td>3.440</td>\n",
              "      <td>18.30</td>\n",
              "      <td>1</td>\n",
              "      <td>0</td>\n",
              "      <td>4</td>\n",
              "      <td>4</td>\n",
              "    </tr>\n",
              "  </tbody>\n",
              "</table>\n",
              "</div>"
            ],
            "text/plain": [
              "                mpg  cyl   disp   hp  drat     wt   qsec  vs  am  gear  carb\n",
              "manufacturer                                                                \n",
              "Mazda RX4 Wag  21.0    6  160.0  110  3.90  2.875  17.02   0   1     4     4\n",
              "Camaro Z28     13.3    8  350.0  245  3.73  3.840  15.41   0   0     3     4\n",
              "Merc 450SE     16.4    8  275.8  180  3.07  4.070  17.40   0   0     3     3\n",
              "Valiant        18.1    6  225.0  105  2.76  3.460  20.22   1   0     3     1\n",
              "Merc 280       19.2    6  167.6  123  3.92  3.440  18.30   1   0     4     4"
            ]
          },
          "execution_count": 63,
          "metadata": {},
          "output_type": "execute_result"
        }
      ],
      "source": [
        "df = pd.read_csv('mtcars.csv', index_col=0)\n",
        "df.sample(5)"
      ]
    },
    {
      "cell_type": "code",
      "execution_count": null,
      "metadata": {
        "id": "MxRiZCjmDufI",
        "outputId": "eecf6bee-82a7-4b4d-fc21-57c694d95bb3"
      },
      "outputs": [
        {
          "name": "stdout",
          "output_type": "stream",
          "text": [
            "<class 'pandas.core.frame.DataFrame'>\n",
            "Index: 32 entries, Mazda RX4 to Volvo 142E\n",
            "Data columns (total 11 columns):\n",
            " #   Column  Non-Null Count  Dtype  \n",
            "---  ------  --------------  -----  \n",
            " 0   mpg     32 non-null     float64\n",
            " 1   cyl     32 non-null     int64  \n",
            " 2   disp    32 non-null     float64\n",
            " 3   hp      32 non-null     int64  \n",
            " 4   drat    32 non-null     float64\n",
            " 5   wt      32 non-null     float64\n",
            " 6   qsec    32 non-null     float64\n",
            " 7   vs      32 non-null     int64  \n",
            " 8   am      32 non-null     int64  \n",
            " 9   gear    32 non-null     int64  \n",
            " 10  carb    32 non-null     int64  \n",
            "dtypes: float64(5), int64(6)\n",
            "memory usage: 3.0+ KB\n"
          ]
        }
      ],
      "source": [
        "df.info()"
      ]
    },
    {
      "cell_type": "code",
      "execution_count": null,
      "metadata": {
        "id": "ZAs9Ri-PDufI",
        "outputId": "b8c2945d-adca-4420-f429-0f3a141c0215"
      },
      "outputs": [
        {
          "data": {
            "text/plain": [
              "(32, 11)"
            ]
          },
          "execution_count": 25,
          "metadata": {},
          "output_type": "execute_result"
        }
      ],
      "source": [
        "df.shape"
      ]
    },
    {
      "cell_type": "markdown",
      "metadata": {
        "id": "_NjxZf2LDufJ"
      },
      "source": [
        "Мы хотим ответить на следующие вопросы:\n",
        "\n",
        "- Влияет ли тип двигателя на расход топлива?\n",
        "- Влияет ли объем мотора на расход топлива?\n",
        "\n"
      ]
    },
    {
      "cell_type": "markdown",
      "metadata": {
        "id": "YNh0Pg4ADufJ"
      },
      "source": [
        "**(1 БАЛЛ)**. Постройти графики для каждого вопроса. Для первого вопроса можете вновь использовать violinplot, но можете подобрать и другой график. Подумайте, какой график подходит для второго вопроса и нарисуйте его. Попробуйте сделать выводы на основе этих графиков (как распределены признаки, их средние и дисперсии)."
      ]
    },
    {
      "cell_type": "code",
      "execution_count": null,
      "metadata": {
        "id": "SOfA-0dADufJ",
        "outputId": "25141b50-3d83-40c2-eae0-e90f9ac6564d"
      },
      "outputs": [
        {
          "data": {
            "text/html": [
              "<div>\n",
              "<style scoped>\n",
              "    .dataframe tbody tr th:only-of-type {\n",
              "        vertical-align: middle;\n",
              "    }\n",
              "\n",
              "    .dataframe tbody tr th {\n",
              "        vertical-align: top;\n",
              "    }\n",
              "\n",
              "    .dataframe thead th {\n",
              "        text-align: right;\n",
              "    }\n",
              "</style>\n",
              "<table border=\"1\" class=\"dataframe\">\n",
              "  <thead>\n",
              "    <tr style=\"text-align: right;\">\n",
              "      <th></th>\n",
              "      <th>count</th>\n",
              "      <th>mean</th>\n",
              "      <th>std</th>\n",
              "      <th>min</th>\n",
              "      <th>25%</th>\n",
              "      <th>50%</th>\n",
              "      <th>75%</th>\n",
              "      <th>max</th>\n",
              "    </tr>\n",
              "    <tr>\n",
              "      <th>vs</th>\n",
              "      <th></th>\n",
              "      <th></th>\n",
              "      <th></th>\n",
              "      <th></th>\n",
              "      <th></th>\n",
              "      <th></th>\n",
              "      <th></th>\n",
              "      <th></th>\n",
              "    </tr>\n",
              "  </thead>\n",
              "  <tbody>\n",
              "    <tr>\n",
              "      <th>0</th>\n",
              "      <td>18.0</td>\n",
              "      <td>16.616667</td>\n",
              "      <td>3.860699</td>\n",
              "      <td>10.4</td>\n",
              "      <td>14.775</td>\n",
              "      <td>15.65</td>\n",
              "      <td>19.075</td>\n",
              "      <td>26.0</td>\n",
              "    </tr>\n",
              "    <tr>\n",
              "      <th>1</th>\n",
              "      <td>14.0</td>\n",
              "      <td>24.557143</td>\n",
              "      <td>5.378978</td>\n",
              "      <td>17.8</td>\n",
              "      <td>21.400</td>\n",
              "      <td>22.80</td>\n",
              "      <td>29.625</td>\n",
              "      <td>33.9</td>\n",
              "    </tr>\n",
              "  </tbody>\n",
              "</table>\n",
              "</div>"
            ],
            "text/plain": [
              "    count       mean       std   min     25%    50%     75%   max\n",
              "vs                                                               \n",
              "0    18.0  16.616667  3.860699  10.4  14.775  15.65  19.075  26.0\n",
              "1    14.0  24.557143  5.378978  17.8  21.400  22.80  29.625  33.9"
            ]
          },
          "execution_count": 72,
          "metadata": {},
          "output_type": "execute_result"
        }
      ],
      "source": [
        "df.groupby('vs')['mpg'].describe()"
      ]
    },
    {
      "cell_type": "code",
      "execution_count": null,
      "metadata": {
        "id": "VaJdlfJQDufK",
        "outputId": "b32d9cdb-3394-4cf3-ce9d-39740b245c24"
      },
      "outputs": [
        {
          "data": {
            "text/plain": [
              "vs\n",
              "0    15.65\n",
              "1    22.80\n",
              "Name: mpg, dtype: float64"
            ]
          },
          "execution_count": 74,
          "metadata": {},
          "output_type": "execute_result"
        }
      ],
      "source": [
        "df.groupby('vs')['mpg'].median()"
      ]
    },
    {
      "cell_type": "code",
      "execution_count": null,
      "metadata": {
        "id": "ypOrMn6SDufK",
        "outputId": "b12fb8a2-9d27-4474-a0a7-0ef680ddfe59"
      },
      "outputs": [
        {
          "data": {
            "text/plain": [
              "vs  mpg \n",
              "0   10.4    2\n",
              "    15.2    2\n",
              "    21.0    2\n",
              "    13.3    1\n",
              "    14.3    1\n",
              "    14.7    1\n",
              "    15.0    1\n",
              "    15.5    1\n",
              "    15.8    1\n",
              "    16.4    1\n",
              "    17.3    1\n",
              "    18.7    1\n",
              "    19.2    1\n",
              "    19.7    1\n",
              "    26.0    1\n",
              "1   21.4    2\n",
              "    22.8    2\n",
              "    30.4    2\n",
              "    17.8    1\n",
              "    18.1    1\n",
              "    19.2    1\n",
              "    21.5    1\n",
              "    24.4    1\n",
              "    27.3    1\n",
              "    32.4    1\n",
              "    33.9    1\n",
              "Name: mpg, dtype: int64"
            ]
          },
          "execution_count": 14,
          "metadata": {},
          "output_type": "execute_result"
        }
      ],
      "source": [
        "df.groupby('vs')['mpg'].value_counts()"
      ]
    },
    {
      "cell_type": "code",
      "execution_count": null,
      "metadata": {
        "id": "jkbvqSHlDufK",
        "outputId": "e83027c3-4cdd-4e4d-ff59-bc955b51f023"
      },
      "outputs": [
        {
          "data": {
            "text/plain": [
              "vs\n",
              "0    14.905000\n",
              "1    28.933407\n",
              "Name: mpg, dtype: float64"
            ]
          },
          "execution_count": 15,
          "metadata": {},
          "output_type": "execute_result"
        }
      ],
      "source": [
        "df.groupby('vs')['mpg'].var()"
      ]
    },
    {
      "cell_type": "code",
      "execution_count": null,
      "metadata": {
        "id": "7D6TUbKkDufL",
        "outputId": "1abda6c2-9555-4dd0-8c59-f0e35f6f59dc"
      },
      "outputs": [
        {
          "data": {
            "image/png": "[encoded data removed]",
            "text/plain": [
              "<Figure size 640x480 with 1 Axes>"
            ]
          },
          "metadata": {},
          "output_type": "display_data"
        }
      ],
      "source": [
        "sns.violinplot(x='vs',\n",
        "               y='mpg',\n",
        "               data=df,\n",
        "               palette='Set1',\n",
        "               inner=\"quartile\")\n",
        "\n",
        "plt.xlabel('Тип двигателя')\n",
        "plt.ylabel('Расход топлива');\n",
        "plt.show()"
      ]
    },
    {
      "cell_type": "markdown",
      "metadata": {
        "id": "reB2LjUSDufL"
      },
      "source": [
        "МЕСТО ДЛЯ ВАШИХ ВЫВОДОВ\n",
        "\n",
        "\n",
        "**1. Влияет ли тип двигателя на расход топлива?** (0 = V-образный, 1 = рядный)\n",
        "\n",
        "**Ответ: Да, влияет.**\n",
        "\n",
        "По графику violinplot можно выявить, что двигатель типа 0 подразумевает меньший расход топлива, чем тип двигателя 1, так как violinplot для 0 располагается ниже, чем violinplot для 1. Медианное значений для типа 0 также находится ниже, чем у типа 1.\n",
        "\n",
        "**Как распределены признаки, их средние и дисперсии?**\n",
        "\n",
        "Можем сказать, что красная фигура для vs=0 шире, что говорит, что в выборке чаще встречается этот тип двигателя, чем тип двигателя 1. Синяя фигура для типа 1 (рядный) более вытянутая, и находится выше, чем график для типа 0, следовательно, и разброс данных расхода топлива этого типа, и среднее должно быть больше, чем  у V-образного типа (смещение вверх из-за наличия больших значений расхода топлива).\n"
      ]
    },
    {
      "cell_type": "code",
      "execution_count": null,
      "metadata": {
        "id": "rdqKqn_MDufL",
        "outputId": "7a7f7fb9-2282-48a4-d419-b0e065c3a148"
      },
      "outputs": [
        {
          "data": {
            "image/png": "[encoded data removed]",
            "text/plain": [
              "<Figure size 640x480 with 1 Axes>"
            ]
          },
          "metadata": {},
          "output_type": "display_data"
        }
      ],
      "source": [
        "# я выбрала диаграмму рассеивания, так как она лучше всего показывает зависимости между переменными\n",
        "plt.scatter(df.disp, df.mpg, color= \"orange\")\n",
        "plt.xlabel('Объем мотора')\n",
        "plt.ylabel('Расход топлива')\n",
        "z = np.polyfit (df.disp, df.mpg, 1)\n",
        "p = np.poly1d (z)\n",
        "plt.plot(df.disp, p(df.disp), color = 'black')\n",
        "# добавлю линию тренда для большей наглядности зависимости расхода топлива от объема мотора\n",
        "\n",
        "plt.show()"
      ]
    },
    {
      "cell_type": "markdown",
      "metadata": {
        "id": "6ozP5jtNDufM"
      },
      "source": [
        "МЕСТО ДЛЯ ВАШИХ ВЫВОДОВ\n",
        "\n",
        "**2. Влияет ли объем мотора на расход топлива?**\n",
        "\n",
        "**Ответ: Да, влияет.**\n",
        "\n",
        "Для демонстрации линейной зависимости между двумя переменными я выбрала диаграмму рассеивания, так как она лучше всего показывает зависимости между переменными.\n",
        "\n",
        "Мы можем наблюдать обратную линейную зависимость между этими двумя переменными, то есть большему объему мотора соответствует меньший расход топлива, и наоборот, меньшему объему мотора соответствует больший расход топлива.\n",
        "\n",
        "Построенная диаграмма рассеяния позволяется понять взаимосвязь между двумя переменными. Мы можем ее оценить по специфичному расположению точек на графике, и для большей наглядности можно сопоставить их расположение с выведенной линией тренда. По графику видно, что точки расположены нехаотично (есть облако) и довольно близко друг к другу, следовательно, корреляция между признаками есть. Отметим, что коэффициент корреляции отрицательный (взаимосвязь между признаками обратная).\n",
        "\n",
        "**Как распределены признаки, их средние и дисперсии?**\n",
        "\n",
        "По данному графику можно определить разброс данных (насколько близко точки находятся близко друг к другу), но точно оценить распределение и значения средних у признаков по диаграмме рассеяния нельзя, этот тип графика не предназначен для интерпретации данных характеристик."
      ]
    },
    {
      "cell_type": "markdown",
      "metadata": {
        "id": "Qmb_Qnf5DufN"
      },
      "source": [
        "**(2 БАЛЛА)**. Реализуйте решение для первого вопроса. Подумайте как можно измерить влияние типа двигателя на расход топлива. Предложите алгоритм и опишите механизм проверки гипотезы в данном задании. Какие должны быть гипотезы? Выберите $\\alpha$. Реализуйте этот алгоритм (статистику и распределение) и вручную проверьте Ваши гипотезы, сделайте вывод. Сверьте Ваш результат со встроенной функцией из модуля scipy.stats (если она есть). Постарайтесь записать гипотезы красиво)"
      ]
    },
    {
      "cell_type": "markdown",
      "metadata": {
        "id": "YGU0KES7DufO"
      },
      "source": [
        "МЕСТО ДЛЯ ВАШИХ МЫСЛЕЙ И ГИПОТЕЗ\n",
        "\n",
        "**1. Влияет ли тип двигателя на расход топлива?**\n",
        "\n",
        "Введем обозначения:\n",
        "\n",
        "y: mpg — расход топлива (миль/галлон)\n",
        "\n",
        "x1: vs — тип двигателя (0 = V-образный, 1 = рядный)"
      ]
    },
    {
      "cell_type": "markdown",
      "metadata": {
        "id": "3v1zvuMgDufO"
      },
      "source": [
        "В этой задаче нам нужно понять, влияет ли тип двигателя на расход топлива.\n",
        "Попробуем использовать коэффициент корреляции Пирсона для тестирования гипотезы о зависимости между двумя переменными в генеральной совокупности (то есть коррелируют ли между собой признаки).\n",
        "\n",
        "p(x1,y) - коэффициент корреляции Писона между типом двигателя (x) и расходом топлива(y) в генеральной совокупности.\n",
        "\n",
        "**Сформулирую нулевую гипотезу:**\n",
        "\n",
        "$$\n",
        "H_0: p(x1,y)= 0 \\\n",
        "$$\n",
        "$$\n",
        "\\text{В генеральной совокупности не существует зависимости между типом двигателя и расходом топлива.}\n",
        "\\\n",
        "$$\n",
        "\n",
        "**Альтернативная гипотеза:**\n",
        "\n",
        "$$\n",
        "H_1:p(x1,y) \\ne 0\\\n",
        "$$\n",
        "$$\n",
        "\\text{В генеральной совокупности существует зависимость между между типом двигателя и расходом топлива.}\n",
        "\\\n",
        "$$\n",
        "\n",
        "Пусть 𝛼 = 0.05\n",
        "\n",
        "Будем проверять гипотезы с помощью t-теста, чтобы определить, является ли корреляция между признаками статистически значимой.\n",
        "\n",
        "**Критерий:**\n",
        "\n",
        "$t = \\frac{r_{X, Y} \\sqrt{n-2}}{\\sqrt{1 - r^2_{X, Y}}} \\sim T_{n-2}$, где\n",
        "\n",
        "$T_{n-2}$ - распределение Стьюдента.\n",
        "\n",
        "$r_{X, Y}$ - выборочный коэффициент корреляции Пирсона"
      ]
    },
    {
      "cell_type": "markdown",
      "metadata": {
        "id": "j_6wR6fhDufO"
      },
      "source": [
        "$r_{X,Y} = \\frac{\\frac{1}{n} \\sum \\limits_{i=1}^n (x_i - \\overline X)(y_i - \\overline Y) }{ \\sqrt{D^*_X D^*_Y}}$, где\n",
        "\n",
        "$D^*_X = \\frac{1}{n} \\sum \\limits_{i=1}^n (x_i - \\overline X)^2$\n",
        "\n",
        "$D^*_Y = \\frac{1}{n} \\sum \\limits_{i=1}^n (y_i - \\overline Y)^2$"
      ]
    },
    {
      "cell_type": "code",
      "execution_count": null,
      "metadata": {
        "id": "zmqIXWJADufP",
        "outputId": "50b9321c-7a8b-4b1c-c17b-a758e86ce3f5"
      },
      "outputs": [
        {
          "data": {
            "text/html": [
              "<div>\n",
              "<style scoped>\n",
              "    .dataframe tbody tr th:only-of-type {\n",
              "        vertical-align: middle;\n",
              "    }\n",
              "\n",
              "    .dataframe tbody tr th {\n",
              "        vertical-align: top;\n",
              "    }\n",
              "\n",
              "    .dataframe thead th {\n",
              "        text-align: right;\n",
              "    }\n",
              "</style>\n",
              "<table border=\"1\" class=\"dataframe\">\n",
              "  <thead>\n",
              "    <tr style=\"text-align: right;\">\n",
              "      <th></th>\n",
              "      <th>mpg</th>\n",
              "      <th>cyl</th>\n",
              "      <th>disp</th>\n",
              "      <th>hp</th>\n",
              "      <th>drat</th>\n",
              "      <th>wt</th>\n",
              "      <th>qsec</th>\n",
              "      <th>vs</th>\n",
              "      <th>am</th>\n",
              "      <th>gear</th>\n",
              "      <th>carb</th>\n",
              "    </tr>\n",
              "  </thead>\n",
              "  <tbody>\n",
              "    <tr>\n",
              "      <th>mpg</th>\n",
              "      <td>1.000000</td>\n",
              "      <td>-0.852162</td>\n",
              "      <td>-0.847551</td>\n",
              "      <td>-0.776168</td>\n",
              "      <td>0.681172</td>\n",
              "      <td>-0.867659</td>\n",
              "      <td>0.418684</td>\n",
              "      <td>0.664039</td>\n",
              "      <td>0.599832</td>\n",
              "      <td>0.480285</td>\n",
              "      <td>-0.550925</td>\n",
              "    </tr>\n",
              "    <tr>\n",
              "      <th>cyl</th>\n",
              "      <td>-0.852162</td>\n",
              "      <td>1.000000</td>\n",
              "      <td>0.902033</td>\n",
              "      <td>0.832447</td>\n",
              "      <td>-0.699938</td>\n",
              "      <td>0.782496</td>\n",
              "      <td>-0.591242</td>\n",
              "      <td>-0.810812</td>\n",
              "      <td>-0.522607</td>\n",
              "      <td>-0.492687</td>\n",
              "      <td>0.526988</td>\n",
              "    </tr>\n",
              "    <tr>\n",
              "      <th>disp</th>\n",
              "      <td>-0.847551</td>\n",
              "      <td>0.902033</td>\n",
              "      <td>1.000000</td>\n",
              "      <td>0.790949</td>\n",
              "      <td>-0.710214</td>\n",
              "      <td>0.887980</td>\n",
              "      <td>-0.433698</td>\n",
              "      <td>-0.710416</td>\n",
              "      <td>-0.591227</td>\n",
              "      <td>-0.555569</td>\n",
              "      <td>0.394977</td>\n",
              "    </tr>\n",
              "    <tr>\n",
              "      <th>hp</th>\n",
              "      <td>-0.776168</td>\n",
              "      <td>0.832447</td>\n",
              "      <td>0.790949</td>\n",
              "      <td>1.000000</td>\n",
              "      <td>-0.448759</td>\n",
              "      <td>0.658748</td>\n",
              "      <td>-0.708223</td>\n",
              "      <td>-0.723097</td>\n",
              "      <td>-0.243204</td>\n",
              "      <td>-0.125704</td>\n",
              "      <td>0.749812</td>\n",
              "    </tr>\n",
              "    <tr>\n",
              "      <th>drat</th>\n",
              "      <td>0.681172</td>\n",
              "      <td>-0.699938</td>\n",
              "      <td>-0.710214</td>\n",
              "      <td>-0.448759</td>\n",
              "      <td>1.000000</td>\n",
              "      <td>-0.712441</td>\n",
              "      <td>0.091205</td>\n",
              "      <td>0.440278</td>\n",
              "      <td>0.712711</td>\n",
              "      <td>0.699610</td>\n",
              "      <td>-0.090790</td>\n",
              "    </tr>\n",
              "    <tr>\n",
              "      <th>wt</th>\n",
              "      <td>-0.867659</td>\n",
              "      <td>0.782496</td>\n",
              "      <td>0.887980</td>\n",
              "      <td>0.658748</td>\n",
              "      <td>-0.712441</td>\n",
              "      <td>1.000000</td>\n",
              "      <td>-0.174716</td>\n",
              "      <td>-0.554916</td>\n",
              "      <td>-0.692495</td>\n",
              "      <td>-0.583287</td>\n",
              "      <td>0.427606</td>\n",
              "    </tr>\n",
              "    <tr>\n",
              "      <th>qsec</th>\n",
              "      <td>0.418684</td>\n",
              "      <td>-0.591242</td>\n",
              "      <td>-0.433698</td>\n",
              "      <td>-0.708223</td>\n",
              "      <td>0.091205</td>\n",
              "      <td>-0.174716</td>\n",
              "      <td>1.000000</td>\n",
              "      <td>0.744535</td>\n",
              "      <td>-0.229861</td>\n",
              "      <td>-0.212682</td>\n",
              "      <td>-0.656249</td>\n",
              "    </tr>\n",
              "    <tr>\n",
              "      <th>vs</th>\n",
              "      <td>0.664039</td>\n",
              "      <td>-0.810812</td>\n",
              "      <td>-0.710416</td>\n",
              "      <td>-0.723097</td>\n",
              "      <td>0.440278</td>\n",
              "      <td>-0.554916</td>\n",
              "      <td>0.744535</td>\n",
              "      <td>1.000000</td>\n",
              "      <td>0.168345</td>\n",
              "      <td>0.206023</td>\n",
              "      <td>-0.569607</td>\n",
              "    </tr>\n",
              "    <tr>\n",
              "      <th>am</th>\n",
              "      <td>0.599832</td>\n",
              "      <td>-0.522607</td>\n",
              "      <td>-0.591227</td>\n",
              "      <td>-0.243204</td>\n",
              "      <td>0.712711</td>\n",
              "      <td>-0.692495</td>\n",
              "      <td>-0.229861</td>\n",
              "      <td>0.168345</td>\n",
              "      <td>1.000000</td>\n",
              "      <td>0.794059</td>\n",
              "      <td>0.057534</td>\n",
              "    </tr>\n",
              "    <tr>\n",
              "      <th>gear</th>\n",
              "      <td>0.480285</td>\n",
              "      <td>-0.492687</td>\n",
              "      <td>-0.555569</td>\n",
              "      <td>-0.125704</td>\n",
              "      <td>0.699610</td>\n",
              "      <td>-0.583287</td>\n",
              "      <td>-0.212682</td>\n",
              "      <td>0.206023</td>\n",
              "      <td>0.794059</td>\n",
              "      <td>1.000000</td>\n",
              "      <td>0.274073</td>\n",
              "    </tr>\n",
              "    <tr>\n",
              "      <th>carb</th>\n",
              "      <td>-0.550925</td>\n",
              "      <td>0.526988</td>\n",
              "      <td>0.394977</td>\n",
              "      <td>0.749812</td>\n",
              "      <td>-0.090790</td>\n",
              "      <td>0.427606</td>\n",
              "      <td>-0.656249</td>\n",
              "      <td>-0.569607</td>\n",
              "      <td>0.057534</td>\n",
              "      <td>0.274073</td>\n",
              "      <td>1.000000</td>\n",
              "    </tr>\n",
              "  </tbody>\n",
              "</table>\n",
              "</div>"
            ],
            "text/plain": [
              "           mpg       cyl      disp        hp      drat        wt      qsec  \\\n",
              "mpg   1.000000 -0.852162 -0.847551 -0.776168  0.681172 -0.867659  0.418684   \n",
              "cyl  -0.852162  1.000000  0.902033  0.832447 -0.699938  0.782496 -0.591242   \n",
              "disp -0.847551  0.902033  1.000000  0.790949 -0.710214  0.887980 -0.433698   \n",
              "hp   -0.776168  0.832447  0.790949  1.000000 -0.448759  0.658748 -0.708223   \n",
              "drat  0.681172 -0.699938 -0.710214 -0.448759  1.000000 -0.712441  0.091205   \n",
              "wt   -0.867659  0.782496  0.887980  0.658748 -0.712441  1.000000 -0.174716   \n",
              "qsec  0.418684 -0.591242 -0.433698 -0.708223  0.091205 -0.174716  1.000000   \n",
              "vs    0.664039 -0.810812 -0.710416 -0.723097  0.440278 -0.554916  0.744535   \n",
              "am    0.599832 -0.522607 -0.591227 -0.243204  0.712711 -0.692495 -0.229861   \n",
              "gear  0.480285 -0.492687 -0.555569 -0.125704  0.699610 -0.583287 -0.212682   \n",
              "carb -0.550925  0.526988  0.394977  0.749812 -0.090790  0.427606 -0.656249   \n",
              "\n",
              "            vs        am      gear      carb  \n",
              "mpg   0.664039  0.599832  0.480285 -0.550925  \n",
              "cyl  -0.810812 -0.522607 -0.492687  0.526988  \n",
              "disp -0.710416 -0.591227 -0.555569  0.394977  \n",
              "hp   -0.723097 -0.243204 -0.125704  0.749812  \n",
              "drat  0.440278  0.712711  0.699610 -0.090790  \n",
              "wt   -0.554916 -0.692495 -0.583287  0.427606  \n",
              "qsec  0.744535 -0.229861 -0.212682 -0.656249  \n",
              "vs    1.000000  0.168345  0.206023 -0.569607  \n",
              "am    0.168345  1.000000  0.794059  0.057534  \n",
              "gear  0.206023  0.794059  1.000000  0.274073  \n",
              "carb -0.569607  0.057534  0.274073  1.000000  "
            ]
          },
          "execution_count": 50,
          "metadata": {},
          "output_type": "execute_result"
        }
      ],
      "source": [
        "df.corr()\n",
        "# по таблице мы видим, что коэффициент корреляции между типом двигателя (vs) и расходом топлива (mpg) равен 0.66"
      ]
    },
    {
      "cell_type": "code",
      "execution_count": null,
      "metadata": {
        "id": "kKR3wFGvDufP",
        "outputId": "7e7a8ffe-5cc7-45e0-fac9-8929dc7b70a2"
      },
      "outputs": [
        {
          "data": {
            "text/html": [
              "<div>\n",
              "<style scoped>\n",
              "    .dataframe tbody tr th:only-of-type {\n",
              "        vertical-align: middle;\n",
              "    }\n",
              "\n",
              "    .dataframe tbody tr th {\n",
              "        vertical-align: top;\n",
              "    }\n",
              "\n",
              "    .dataframe thead th {\n",
              "        text-align: right;\n",
              "    }\n",
              "</style>\n",
              "<table border=\"1\" class=\"dataframe\">\n",
              "  <thead>\n",
              "    <tr style=\"text-align: right;\">\n",
              "      <th></th>\n",
              "      <th>vs</th>\n",
              "      <th>mpg</th>\n",
              "    </tr>\n",
              "    <tr>\n",
              "      <th>manufacturer</th>\n",
              "      <th></th>\n",
              "      <th></th>\n",
              "    </tr>\n",
              "  </thead>\n",
              "  <tbody>\n",
              "    <tr>\n",
              "      <th>Mazda RX4</th>\n",
              "      <td>0</td>\n",
              "      <td>21.0</td>\n",
              "    </tr>\n",
              "    <tr>\n",
              "      <th>Mazda RX4 Wag</th>\n",
              "      <td>0</td>\n",
              "      <td>21.0</td>\n",
              "    </tr>\n",
              "    <tr>\n",
              "      <th>Datsun 710</th>\n",
              "      <td>1</td>\n",
              "      <td>22.8</td>\n",
              "    </tr>\n",
              "    <tr>\n",
              "      <th>Hornet 4 Drive</th>\n",
              "      <td>1</td>\n",
              "      <td>21.4</td>\n",
              "    </tr>\n",
              "    <tr>\n",
              "      <th>Hornet Sportabout</th>\n",
              "      <td>0</td>\n",
              "      <td>18.7</td>\n",
              "    </tr>\n",
              "  </tbody>\n",
              "</table>\n",
              "</div>"
            ],
            "text/plain": [
              "                   vs   mpg\n",
              "manufacturer               \n",
              "Mazda RX4           0  21.0\n",
              "Mazda RX4 Wag       0  21.0\n",
              "Datsun 710          1  22.8\n",
              "Hornet 4 Drive      1  21.4\n",
              "Hornet Sportabout   0  18.7"
            ]
          },
          "execution_count": 51,
          "metadata": {},
          "output_type": "execute_result"
        }
      ],
      "source": [
        "# посчитаем руками коэффициент корреляции Пирсона\n",
        "# для удобства создадим новый датафрейм, где будут находиться только 2 нужные мне переменные\n",
        "df_1 = pd.concat([df.vs, df.mpg], axis = 1)\n",
        "df_1.head()"
      ]
    },
    {
      "cell_type": "code",
      "execution_count": null,
      "metadata": {
        "id": "08G49fA0DufQ"
      },
      "outputs": [],
      "source": [
        "# считатем по формуле, которая приведена выше\n",
        "df_1[\"X - Mx\"] = df['vs'] - df['vs'].mean()\n",
        "df_1[\"Y - My\"]= df['mpg'] - df['mpg'].mean()"
      ]
    },
    {
      "cell_type": "code",
      "execution_count": null,
      "metadata": {
        "id": "6PgroU3YDufQ",
        "outputId": "98aacb78-b157-4eb1-9ef9-0af10827619e"
      },
      "outputs": [
        {
          "data": {
            "text/plain": [
              "0.6640389191275927"
            ]
          },
          "execution_count": 53,
          "metadata": {},
          "output_type": "execute_result"
        }
      ],
      "source": [
        "SSx = (df_1[\"X - Mx\"]**2).sum()\n",
        "SSy = (df_1[\"Y - My\"]**2).sum()\n",
        "SP = (df_1[\"X - Mx\"]*df_1[\"Y - My\"]).sum()\n",
        "r = SP/np.sqrt(SSx*SSy)\n",
        "r\n",
        "# коэффициент корреляции Пирсона - 0.66 (совпало с табличным значением)"
      ]
    },
    {
      "cell_type": "code",
      "execution_count": null,
      "metadata": {
        "id": "Sc5CNInDDufQ",
        "outputId": "01e0a6f2-0580-43b1-c74c-a75e28597d41"
      },
      "outputs": [
        {
          "data": {
            "text/plain": [
              "6.505815037966033"
            ]
          },
          "execution_count": 54,
          "metadata": {},
          "output_type": "execute_result"
        }
      ],
      "source": [
        "# считаем наблюдаемую t-ститистику\n",
        "n = df.shape[0]\n",
        "t_obs = (r*np.sqrt(n-2))/(1-r**2)\n",
        "t_obs"
      ]
    },
    {
      "cell_type": "code",
      "execution_count": null,
      "metadata": {
        "id": "Kvw5-Id8DufR",
        "outputId": "d56feafc-fbb7-4914-8b32-2733bf7f65c3"
      },
      "outputs": [
        {
          "name": "stdout",
          "output_type": "stream",
          "text": [
            "-2.042272456301238 2.0422724563012373\n"
          ]
        }
      ],
      "source": [
        "# рассчитаем границы критической области\n",
        "alpha = 0.05\n",
        "left  = scipy.stats.t.ppf(alpha/2, n-2)\n",
        "right = scipy.stats.t.ppf(1 - (alpha/2), n-2)\n",
        "print(left, right)\n",
        "# распределение Стьюдента симметричное"
      ]
    },
    {
      "cell_type": "code",
      "execution_count": null,
      "metadata": {
        "id": "gD-J8nyrDufR",
        "outputId": "ed2ef766-2d42-4dd1-8184-b6258ce92870"
      },
      "outputs": [
        {
          "name": "stdout",
          "output_type": "stream",
          "text": [
            "True\n"
          ]
        }
      ],
      "source": [
        "print(abs(t_obs) > right)\n",
        "# t наблюдаемое попадает в критическую область\n",
        "# Н0 отвергается в пользу альтернативной гипотезы"
      ]
    },
    {
      "cell_type": "code",
      "execution_count": null,
      "metadata": {
        "id": "pjhCUcHmDufR",
        "outputId": "41d92cb3-4acd-4349-c4c1-0d0c653915f3"
      },
      "outputs": [
        {
          "data": {
            "text/plain": [
              "PearsonRResult(statistic=0.6640389191275929, pvalue=3.4159372544199445e-05)"
            ]
          },
          "execution_count": 56,
          "metadata": {},
          "output_type": "execute_result"
        }
      ],
      "source": [
        "from scipy.stats import pearsonr\n",
        "scipy.stats.pearsonr(df_1[\"vs\"], df_1[\"mpg\"], alternative='two-sided' )"
      ]
    },
    {
      "cell_type": "code",
      "execution_count": null,
      "metadata": {
        "id": "w5eLeQiDDufS",
        "outputId": "ac356e79-52b2-419c-b948-81ebc1195837"
      },
      "outputs": [
        {
          "name": "stdout",
          "output_type": "stream",
          "text": [
            "True\n"
          ]
        }
      ],
      "source": [
        "print(3.4159372544199445e-05 < 0.05)"
      ]
    },
    {
      "cell_type": "markdown",
      "metadata": {
        "id": "soqwNwEXDufS"
      },
      "source": [
        "ВЫВОД:\n",
        "1. Мы **отвергаем нулевую гипотезу** на уровне значимости 0.05, так как расчитанное t наблюдаемое попало в критическую область, следовательно, в генеральной совокупности существует зависимость между типом двигателя и расходом топлива. Расчитанный r(x1,y) значим на уровне значимости 0.05 (между признаками есть корреляционная связь).\n",
        "\n",
        "\n",
        "2. Более того, воспользовавшись встроенной функцией pearsonr, мы доказали, что **p-value < alpha** (3.4159372544199445e-05 < 0.05), что также говорит, о том, что нулевая гипотеза отвергается в пользу альтернативной.\n"
      ]
    },
    {
      "cell_type": "markdown",
      "metadata": {
        "id": "_kCjSSquDufS"
      },
      "source": [
        "**(2 БАЛЛА)**. Реализуйте решение для второго вопроса. Подумайте как можно измерить влияние объема мотора на расход топлива. Предложите алгоритм и опишите механизм проверки гипотезы в данном задании. Какие должны быть гипотезы? Выберите $\\alpha$. Реализуйте этот алгоритм (статистику и распределение) и вручную проверьте Ваши гипотезы, сделайте вывод. Сверьте Ваш результат со встроенной функцией из модуля scipy.stats (если она есть). Постарайтесь записать гипотезы красиво)"
      ]
    },
    {
      "cell_type": "markdown",
      "metadata": {
        "id": "qpsMURowDufT"
      },
      "source": [
        "МЕСТО ДЛЯ ВАШИХ МЫСЛЕЙ И ГИПОТЕЗ\n",
        "\n",
        "**2. Влияет ли объем мотора на расход топлива?**\n",
        "\n",
        "Введу обозначения:\n",
        "\n",
        "y: mpg — расход топлива (миль/галлон);\n",
        "\n",
        "x2: disp — объем мотор (куб. дюйм);\n"
      ]
    },
    {
      "cell_type": "markdown",
      "metadata": {
        "id": "jYIF7VC8DufT"
      },
      "source": [
        "В этой задаче нам нужно понять, если ли зависимость между объемом мотора и расходом топлива.\n",
        "Буду использовать коэффициент корреляции Пирсона для тестирования гипотезы о зависимости между двумя переменными в генеральной совокупности (то есть коррелируют ли между собой признаки).\n",
        "\n",
        "p(x2,y) - коэффициент корреляции Писона между объемом мотора (x) и расходом топлива(y) в генеральной совокупности.\n",
        "\n",
        "**Сформулирую нулевую гипотезу:**\n",
        "\n",
        "$$\n",
        "H_0:p(x2,y)= 0 \\\n",
        "$$\n",
        "$$\n",
        "\\text{В генеральной совокупности не существует зависимости между объемом мотора и расходом топлива.}\n",
        "\\\n",
        "$$\n",
        "\n",
        "**Альтернативная гипотеза:**\n",
        "\n",
        "$$\n",
        "H_1:p(x2,y) \\ne 0\\\n",
        "$$\n",
        "$$\n",
        "\\text{В генеральной совокупности существует зависимости между между объемом мотора и расходом топлива.}\n",
        "\\\n",
        "$$\n",
        "\n",
        "Пусть 𝛼 = 0.05\n",
        "\n",
        "Будем проверять гипотезы с помощью t-теста, чтобы определить является ли корреляция между признаками статистически значимой.\n",
        "\n",
        "**Критерий:**\n",
        "\n",
        "$t = \\frac{r_{X, Y} \\sqrt{n-2}}{\\sqrt{1 - r^2_{X, Y}}} \\sim T_{n-2}$, где\n",
        "\n",
        "$T_{n-2}$ - распределение Стьюдента с n-2 степенями свободы.\n",
        "\n",
        "$r_{X, Y}$ - выборочный коэффициент корреляции Пирсона"
      ]
    },
    {
      "cell_type": "code",
      "execution_count": null,
      "metadata": {
        "id": "5K5gFmvtDufT",
        "outputId": "a5e7b9ed-c379-43ec-b917-80c9e30c6a58"
      },
      "outputs": [
        {
          "data": {
            "text/html": [
              "<div>\n",
              "<style scoped>\n",
              "    .dataframe tbody tr th:only-of-type {\n",
              "        vertical-align: middle;\n",
              "    }\n",
              "\n",
              "    .dataframe tbody tr th {\n",
              "        vertical-align: top;\n",
              "    }\n",
              "\n",
              "    .dataframe thead th {\n",
              "        text-align: right;\n",
              "    }\n",
              "</style>\n",
              "<table border=\"1\" class=\"dataframe\">\n",
              "  <thead>\n",
              "    <tr style=\"text-align: right;\">\n",
              "      <th></th>\n",
              "      <th>mpg</th>\n",
              "      <th>disp</th>\n",
              "    </tr>\n",
              "    <tr>\n",
              "      <th>manufacturer</th>\n",
              "      <th></th>\n",
              "      <th></th>\n",
              "    </tr>\n",
              "  </thead>\n",
              "  <tbody>\n",
              "    <tr>\n",
              "      <th>Mazda RX4</th>\n",
              "      <td>21.0</td>\n",
              "      <td>160.0</td>\n",
              "    </tr>\n",
              "    <tr>\n",
              "      <th>Mazda RX4 Wag</th>\n",
              "      <td>21.0</td>\n",
              "      <td>160.0</td>\n",
              "    </tr>\n",
              "    <tr>\n",
              "      <th>Datsun 710</th>\n",
              "      <td>22.8</td>\n",
              "      <td>108.0</td>\n",
              "    </tr>\n",
              "    <tr>\n",
              "      <th>Hornet 4 Drive</th>\n",
              "      <td>21.4</td>\n",
              "      <td>258.0</td>\n",
              "    </tr>\n",
              "    <tr>\n",
              "      <th>Hornet Sportabout</th>\n",
              "      <td>18.7</td>\n",
              "      <td>360.0</td>\n",
              "    </tr>\n",
              "  </tbody>\n",
              "</table>\n",
              "</div>"
            ],
            "text/plain": [
              "                    mpg   disp\n",
              "manufacturer                  \n",
              "Mazda RX4          21.0  160.0\n",
              "Mazda RX4 Wag      21.0  160.0\n",
              "Datsun 710         22.8  108.0\n",
              "Hornet 4 Drive     21.4  258.0\n",
              "Hornet Sportabout  18.7  360.0"
            ]
          },
          "execution_count": 57,
          "metadata": {},
          "output_type": "execute_result"
        }
      ],
      "source": [
        "# создам отдельный датафрейм\n",
        "df_2 = pd.concat([df.mpg, df.disp], axis = 1)\n",
        "df_2.head()"
      ]
    },
    {
      "cell_type": "code",
      "execution_count": null,
      "metadata": {
        "id": "WTwamNi-DufU",
        "outputId": "9734d67b-42f9-473e-d109-5ca7ccee47c0"
      },
      "outputs": [
        {
          "data": {
            "text/html": [
              "<div>\n",
              "<style scoped>\n",
              "    .dataframe tbody tr th:only-of-type {\n",
              "        vertical-align: middle;\n",
              "    }\n",
              "\n",
              "    .dataframe tbody tr th {\n",
              "        vertical-align: top;\n",
              "    }\n",
              "\n",
              "    .dataframe thead th {\n",
              "        text-align: right;\n",
              "    }\n",
              "</style>\n",
              "<table border=\"1\" class=\"dataframe\">\n",
              "  <thead>\n",
              "    <tr style=\"text-align: right;\">\n",
              "      <th></th>\n",
              "      <th>mpg</th>\n",
              "      <th>disp</th>\n",
              "    </tr>\n",
              "  </thead>\n",
              "  <tbody>\n",
              "    <tr>\n",
              "      <th>mpg</th>\n",
              "      <td>1.000000</td>\n",
              "      <td>-0.847551</td>\n",
              "    </tr>\n",
              "    <tr>\n",
              "      <th>disp</th>\n",
              "      <td>-0.847551</td>\n",
              "      <td>1.000000</td>\n",
              "    </tr>\n",
              "  </tbody>\n",
              "</table>\n",
              "</div>"
            ],
            "text/plain": [
              "           mpg      disp\n",
              "mpg   1.000000 -0.847551\n",
              "disp -0.847551  1.000000"
            ]
          },
          "execution_count": 58,
          "metadata": {},
          "output_type": "execute_result"
        }
      ],
      "source": [
        "df_2.corr()"
      ]
    },
    {
      "cell_type": "code",
      "execution_count": null,
      "metadata": {
        "id": "PrESfYo6DufU",
        "outputId": "a3911dbe-a381-43e2-d6d9-958b1ae58ad6"
      },
      "outputs": [
        {
          "data": {
            "text/plain": [
              "-0.8475513792624786"
            ]
          },
          "execution_count": 59,
          "metadata": {},
          "output_type": "execute_result"
        }
      ],
      "source": [
        "# посчитаем руками коэффициент корреляции Пирсона между объемом мотора и расходом топлива\n",
        "SSx_2 = (np.array((df_2['disp'] - df_2['disp'].mean()))**2).sum()\n",
        "SSy_2 = (np.array((df_2['mpg'] - df_2['mpg'].mean()))**2).sum()\n",
        "SP_2 = ((np.array(df_2['disp'] - df_2['disp'].mean()))*(np.array(df_2['mpg'] - df_2['mpg'].mean()))).sum()\n",
        "r_2 = SP_2/np.sqrt(SSx_2*SSy_2)\n",
        "r_2\n",
        "# коэффициент корреляции Пирсона между объемом мотора и расходом топлива равен -0.85 (совпало с табличным)"
      ]
    },
    {
      "cell_type": "code",
      "execution_count": null,
      "metadata": {
        "id": "Vmg7wtx9DufU",
        "outputId": "1cae5b01-65ea-4f42-fe99-795d370bbf63"
      },
      "outputs": [
        {
          "data": {
            "text/plain": [
              "-16.481875836837744"
            ]
          },
          "execution_count": 60,
          "metadata": {},
          "output_type": "execute_result"
        }
      ],
      "source": [
        "# считаем наблюдаемую t-ститистику\n",
        "n = df.shape[0]\n",
        "t_obs_2 = (r_2*np.sqrt(n-2))/(1-r_2**2)\n",
        "t_obs_2"
      ]
    },
    {
      "cell_type": "code",
      "execution_count": null,
      "metadata": {
        "id": "BqVSfcfIDufV",
        "outputId": "cbfbf475-ba7a-45f6-d6f0-8cb0bb49ddff"
      },
      "outputs": [
        {
          "name": "stdout",
          "output_type": "stream",
          "text": [
            "-2.042272456301238 2.0422724563012373\n"
          ]
        }
      ],
      "source": [
        "# рассчитаем границы критической области\n",
        "alpha = 0.05\n",
        "left  = scipy.stats.t.ppf(alpha/2, n-2)\n",
        "right = scipy.stats.t.ppf(1 - (alpha/2), n-2)\n",
        "print(left, right)\n",
        "# распределение Стьюдента симметричное"
      ]
    },
    {
      "cell_type": "code",
      "execution_count": null,
      "metadata": {
        "id": "3fbJwqaeDufV",
        "outputId": "50634617-773a-4394-c381-b51c78dabf61"
      },
      "outputs": [
        {
          "name": "stdout",
          "output_type": "stream",
          "text": [
            "True\n"
          ]
        }
      ],
      "source": [
        "print(abs(t_obs_2) > right)\n",
        "# t наблюдаемое попадает в критическую область\n",
        "# Н0 отвергается в пользу альтернативной гипотезы"
      ]
    },
    {
      "cell_type": "code",
      "execution_count": null,
      "metadata": {
        "id": "MHcX1JWbDufV",
        "outputId": "d6269cf5-df48-4685-dfb8-18be1654ef39"
      },
      "outputs": [
        {
          "data": {
            "text/plain": [
              "PearsonRResult(statistic=-0.8475513792624787, pvalue=9.380326537381398e-10)"
            ]
          },
          "execution_count": 111,
          "metadata": {},
          "output_type": "execute_result"
        }
      ],
      "source": [
        "from scipy.stats import pearsonr\n",
        "scipy.stats.pearsonr(df_2[\"disp\"], df_2[\"mpg\"], alternative='two-sided' )"
      ]
    },
    {
      "cell_type": "code",
      "execution_count": null,
      "metadata": {
        "id": "INtWwT0NDufW",
        "outputId": "bff3f5b8-5e49-42f3-e218-e5a8f0d6d9a8"
      },
      "outputs": [
        {
          "name": "stdout",
          "output_type": "stream",
          "text": [
            "True\n"
          ]
        }
      ],
      "source": [
        "print(9.380326537381398e-10 < 0.05)"
      ]
    },
    {
      "cell_type": "markdown",
      "metadata": {
        "id": "RkRTEbSHDufW"
      },
      "source": [
        "ВЫВОД:\n",
        "1. Мы **отвергаем нулевую гипотезу** на уровне значимости 0.05, так как расчитанное t наблюдаемое (-16.48) попало в критическую область, следовательно, в генеральной совокупности существует зависимость между объемом мотора и расходом топлива. Расчитанный коэффициент корреляции r(x2,y) значим на уровне значимости 0.05 (между признаками есть корреляционная связь).\n",
        "\n",
        "\n",
        "2. Более того, воспользовавшись встроенной функцией pearsonr, мы доказали, что **p-value < alpha** (9.380326537381398e-10 < 0.05), что также говорит, о том, что нулевая гипотеза отвергается в пользу альтернативной.\n"
      ]
    }
  ],
  "metadata": {
    "colab": {
      "provenance": [],
      "toc_visible": true
    },
    "gist": {
      "data": {
        "description": "Google Drive/My Drive/main/teaching/22-1_stat-dpo-da-4/Материалы/ДЗ/hw2_hypothesis-testing_solved.ipynb",
        "public": false
      },
      "id": ""
    },
    "kernelspec": {
      "display_name": "Python 3 (ipykernel)",
      "language": "python",
      "name": "python3"
    },
    "language_info": {
      "codemirror_mode": {
        "name": "ipython",
        "version": 3
      },
      "file_extension": ".py",
      "mimetype": "text/x-python",
      "name": "python",
      "nbconvert_exporter": "python",
      "pygments_lexer": "ipython3",
      "version": "3.9.13"
    },
    "toc": {
      "base_numbering": 1,
      "nav_menu": {},
      "number_sections": true,
      "sideBar": true,
      "skip_h1_title": true,
      "title_cell": "Table of Contents",
      "title_sidebar": "Contents",
      "toc_cell": true,
      "toc_position": {},
      "toc_section_display": true,
      "toc_window_display": true
    },
    "vscode": {
      "interpreter": {
        "hash": "26de051ba29f2982a8de78e945f0abaf191376122a1563185a90213a26c5da77"
      }
    }
  },
  "nbformat": 4,
  "nbformat_minor": 0
}