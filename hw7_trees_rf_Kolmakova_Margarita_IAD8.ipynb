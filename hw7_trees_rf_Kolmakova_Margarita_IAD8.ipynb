{
  "cells": [
    {
      "cell_type": "markdown",
      "metadata": {
        "id": "15nsTFjn_gbe"
      },
      "source": [
        "# Интеллектуальный анализ данных – весна 2022\n",
        "\n",
        "# Домашнее задание 7: Деревья. Случайный лес\n",
        "\n",
        "Правила:\n",
        "\n",
        "- Домашнее задание оценивается в 10 баллов (+1 бонусный балл).\n",
        "\n",
        "\n",
        "- Можно использовать без доказательства любые результаты, встречавшиеся на лекциях или семинарах по курсу, если получение этих результатов не является вопросом задания.\n",
        "\n",
        "\n",
        "- Можно использовать любые свободные источники с обязательным указанием ссылки на них.\n",
        "\n",
        "\n",
        "- Плагиат не допускается. При обнаружении случаев списывания, 0 за работу выставляется всем участникам нарушения, даже если можно установить, кто у кого списал.\n",
        "\n",
        "<!-- ![](https://github.com/hse-ds/iad-intro-ds/blob/master/2023/homeworks/hw07-trees/meme.jpg?raw=1) -->\n",
        "<img src=\"https://github.com/hse-ds/iad-intro-ds/blob/master/2023/homeworks/hw07-trees/meme.jpg?raw=1\" alt=\"Drawing\" style=\"width: 700px;\"/>"
      ]
    },
    {
      "cell_type": "markdown",
      "metadata": {
        "id": "Q4qWAP3u_gbg"
      },
      "source": [
        "## Часть 1: Основы построения решающего дерева (1.5 балла)\n",
        "\n",
        "В этой части все расчёты необходимо реализовывать в виде запрограммированных формул, например, на `numpy`. **Нельзя использовать готовые реализации**. Например, если в задании требуется рассчитать энтропию, то требуется в каком-то виде релизовать расчёт по формуле, но нельзя использовать готовую реализацию `some_module.entropy()`."
      ]
    },
    {
      "cell_type": "code",
      "execution_count": 1,
      "metadata": {
        "id": "xcEIojSF_gbh"
      },
      "outputs": [],
      "source": [
        "import numpy as np\n",
        "import pandas as pd\n",
        "import matplotlib.pyplot as plt"
      ]
    },
    {
      "cell_type": "markdown",
      "metadata": {
        "id": "uW8ZsovO_gbh"
      },
      "source": [
        "**Задание 1.1 (0.5 балла)** Пусть известно, что в вершину решающего дерева попали 10 объектов, 8 из которых имеют метку класса $k_1$, а 2 имеют метку класса $k_2$. Рассчитайте энтропию такого распределения классов (с натуральным логарифмом). Ответ округлите до двух знаков после запятой."
      ]
    },
    {
      "cell_type": "code",
      "execution_count": 2,
      "metadata": {
        "colab": {
          "base_uri": "https://localhost:8080/"
        },
        "id": "sXR6eER21BGw",
        "outputId": "52a1f0c3-f0da-4b8f-95ec-d2f51b10ece1"
      },
      "outputs": [
        {
          "output_type": "execute_result",
          "data": {
            "text/plain": [
              "0.5"
            ]
          },
          "metadata": {},
          "execution_count": 2
        }
      ],
      "source": [
        "from math import log, e\n",
        "def entropy(k1, k2):\n",
        "    k = k1 + k2\n",
        "    return round((-k1/k)*log(k1/k,e)+(-k2/k)*log(k2/k,e),2)\n",
        "\n",
        "entropy(8,2)"
      ]
    },
    {
      "cell_type": "markdown",
      "metadata": {
        "id": "kGPPKvRe_gbi"
      },
      "source": [
        "**Задание 1.2 (0.5 балла)** Пусть дополнительно известно, что вершина из предыдущего задания не является листовой и возможно такое разбиение, что в левое поддерево попадут все объекты класса $k_1$, а в правое - класса $k_2$. Посчитайте критерий информативности:\n",
        "\n",
        "$$\n",
        "Q(R_m, j, t) = H(R_m) - \\frac{|R_\\ell|}{|R_m|}H(R_\\ell) - \\frac{|R_r|}{|R_m|}H(R_r),\n",
        "$$\n",
        "\n",
        "где $R_m$ - множество объектов в разбиваемой вершине, $j$ - номер признака, по которому происходит разбиение, $t$ - порог разбиения, $R_\\ell$ - множество объектов в левом поддереве, $R_r$ - множество объектов в правом поддереве.\n",
        "\n",
        "Теперь в качестве $H(R)$ будем использовать индекс Джини:\n",
        "\n",
        "$$\n",
        "H(R) = \\sum_{k=1}^J p_k(1-p_k),\n",
        "$$\n",
        "где $J$ – общее количество классов (в нашем случае, $J = 2$).\n",
        "\n",
        "Ответ округлите до двух знаков после запятой."
      ]
    },
    {
      "cell_type": "code",
      "execution_count": 3,
      "metadata": {
        "colab": {
          "base_uri": "https://localhost:8080/"
        },
        "id": "pOIgTHRV_gbi",
        "outputId": "62893f44-bcce-4f1c-ec59-403b241312a4"
      },
      "outputs": [
        {
          "output_type": "execute_result",
          "data": {
            "text/plain": [
              "0.32"
            ]
          },
          "metadata": {},
          "execution_count": 3
        }
      ],
      "source": [
        "def gini(n1,n2):\n",
        "    p1 = n1/(n1+n2)\n",
        "    p2 = n2/(n1+n2)\n",
        "    h = p1*(1-p1)+p2*(1-p2)\n",
        "    h_l = (n1/n1)*(1-(n1/n1))+(0/n1)*(1-(0/n1))\n",
        "    h_r = (n2/n2)*(1-(n2/n2))+(0/n2)*(1-(0/n2))\n",
        "    return h-p1*h_l-p2*h_r\n",
        "gini(8,2)"
      ]
    },
    {
      "cell_type": "markdown",
      "metadata": {
        "id": "aBJf_Q4h_gbi"
      },
      "source": [
        "**Задание 1.3 (0.5 балла)** Пусть при построении дерева образовалась листовая вершина с 10 объектами, значения целевой переменной для которых следующие: [1, 10, 5, 18, 100, 30, 50, 61, 84, 47] (решается задача регрессии). Чему будут равны предсказания модели для этих объектов?"
      ]
    },
    {
      "cell_type": "code",
      "execution_count": 4,
      "metadata": {
        "colab": {
          "base_uri": "https://localhost:8080/"
        },
        "id": "-utZiuNG_gbi",
        "outputId": "e3458028-9a70-4bfb-af3e-65e360b08984"
      },
      "outputs": [
        {
          "output_type": "stream",
          "name": "stdout",
          "text": [
            "40.6\n"
          ]
        }
      ],
      "source": [
        "values_in_leaf =  [1, 10, 5, 18, 100, 30, 50, 61, 84, 47]\n",
        "print(sum(values_in_leaf)/len(values_in_leaf))\n",
        "# усредняем значения целевой переменной, так как решается задача регрессии"
      ]
    },
    {
      "cell_type": "markdown",
      "metadata": {
        "id": "RVGUCPYV_gbj"
      },
      "source": [
        "## Часть 2: Решающие деревья\n",
        "\n",
        "В этой части мы напишем и протестируем собственную реализацию решающего дерева."
      ]
    },
    {
      "cell_type": "code",
      "execution_count": 8,
      "metadata": {
        "id": "yeIm3399_gbj"
      },
      "outputs": [],
      "source": [
        "from collections import Counter\n",
        "from typing import Dict, List, Tuple, Union"
      ]
    },
    {
      "cell_type": "markdown",
      "metadata": {
        "id": "N9dTORPB_gbj"
      },
      "source": [
        "**Задание 2.1 (1.5 балла)** Реализуйте функцию `find_best_split()`, которая должна находить оптимальное разбиение подмножества обучающей выборки в соответствии с информационным критерием из **Задания 1.2**. В качестве меры хаотичности $H(R)$ для задачи регрессии испольуйте дисперсию подвыборки, а для задачи классификации – критерий Джини (определён в том же задании).\n",
        "\n",
        "Для категориальных признаков применяется наивный алгоритм разбиения: мы пытаемся найти одно значение, разбиение по которому сильнее всего увеличит критерий информативности. Иными словами, объекты с конкретным значением признака отправляем в левое поддерево, остальные - в правое. Обратите внимание, что это далеко не оптимальные способ учёта категориальных признаков. Например, можно было бы на каждое значение категориального признака создавать отдельное поддерево или использовать более сложные подходы. Подробнее об этом можно прочитать в конспектах [лекций](https://github.com/esokolov/ml-course-hse/blob/master/2019-fall/lecture-notes/lecture07-trees.pdf) по машинному обучению на ПМИ (раздел «Учёт категориальных признаков»).\n",
        "\n",
        "В качестве подсказок реализации можете пользоваться кодом из бонусной части семинара по решающим деревьям.\n",
        "\n",
        "**Бонус:** Разрешается делать цикл для перебора порогов, но возможна имплементация без него. За имплементацию без цикла – **бонус 1 балл**."
      ]
    },
    {
      "cell_type": "code",
      "execution_count": null,
      "metadata": {
        "id": "NQn04Gol_gbj"
      },
      "outputs": [],
      "source": [
        "def find_best_split(\n",
        "    feature_vector: Union[np.ndarray, pd.DataFrame],\n",
        "    target_vector: Union[np.ndarray, pd.Series],\n",
        "    task: str = \"classification\",\n",
        "    feature_type: str = \"real\"\n",
        ") -> Tuple[np.ndarray, np.ndarray, float, float]:\n",
        "    \"\"\"\n",
        "    Указания:\n",
        "    * Пороги, приводящие к попаданию в одно из поддеревьев пустого множества объектов, не рассматриваются.\n",
        "    * В качестве порогов, нужно брать среднее двух соседних (при сортировке) значений признака\n",
        "    * Поведение функции в случае константного признака может быть любым.\n",
        "    * При одинаковых приростах Джини или дисперсии нужно выбирать минимальный сплит.\n",
        "    * За наличие в функции циклов балл будет снижен. Векторизуйте! :)\n",
        "\n",
        "    :param feature_vector: вещественнозначный вектор значений признака\n",
        "    :param target_vector: вектор классов объектов,  len(feature_vector) == len(target_vector)\n",
        "    :param task: либо `classification`, либо `regression`\n",
        "    :param feature_type: либо `real`, либо `categorical`\n",
        "\n",
        "    :return thresholds: отсортированный по возрастанию вектор со всеми возможными порогами, по которым объекты можно\n",
        "     разделить на две различные подвыборки, или поддерева\n",
        "    :return ginis: вектор со значениями критерия Джини для каждого из порогов в thresholds len(ginis) == len(thresholds)\n",
        "    :return threshold_best: оптимальный порог (число)\n",
        "    :return gini_best: оптимальное значение критерия Джини (число)\n",
        "    \"\"\"\n",
        "    ginis = []\n",
        "    thresholds = np.unique(feature_vector)\n",
        "\n",
        "    if feature_type == \"real\":\n",
        "        thresholds = (thresholds[:-1] + thresholds[1:]) / 2\n",
        "\n",
        "    for t in thresholds:\n",
        "        if feature_type == \"real\":\n",
        "            n = (feature_vector <= t)\n",
        "        else:\n",
        "            n = (feature_vector == t)\n",
        "\n",
        "        Hleft = feature_vector[n]\n",
        "        yleft = target_vector[n]\n",
        "        Hright = feature_vector[~n]\n",
        "        yright = target_vector[~n]\n",
        "\n",
        "        if task == \"classification\":\n",
        "            err = gini(feature_vector) - (len(Hleft) /len(feature_vector)*gini(Hleft)) - (len(Hright) /len(feature_vector)*gini(Hright))\n",
        "        else:\n",
        "            err = feature_vector.var() - (len(Hleft) / len(feature_vector) * yleft.var()) - (len(Hright) / len(feature_vector) * yright.var())\n",
        "        ginis.append(err)\n",
        "\n",
        "    ginis = np.nan_to_num(ginis, nan=float(\"-inf\"))\n",
        "    threshold_best = thresholds[np.argmax(ginis)]\n",
        "    gini_best = ginis[np.argmax(ginis)]\n",
        "\n",
        "    return thresholds, ginis, threshold_best, gini_best\n",
        "    pass"
      ]
    },
    {
      "cell_type": "markdown",
      "metadata": {
        "id": "D-54xDMw_gbj"
      },
      "source": [
        "Эту функцию можно протестировать на датасете `California`."
      ]
    },
    {
      "cell_type": "code",
      "execution_count": null,
      "metadata": {
        "id": "aDj-5EFo_gbk"
      },
      "outputs": [],
      "source": [
        "from sklearn.datasets import fetch_california_housing"
      ]
    },
    {
      "cell_type": "code",
      "execution_count": null,
      "metadata": {
        "id": "IxLrPoiH_gbk",
        "outputId": "4ee171a0-2d85-4cb6-8d6d-55b64ea83515"
      },
      "outputs": [
        {
          "data": {
            "text/html": [
              "<div>\n",
              "<style scoped>\n",
              "    .dataframe tbody tr th:only-of-type {\n",
              "        vertical-align: middle;\n",
              "    }\n",
              "\n",
              "    .dataframe tbody tr th {\n",
              "        vertical-align: top;\n",
              "    }\n",
              "\n",
              "    .dataframe thead th {\n",
              "        text-align: right;\n",
              "    }\n",
              "</style>\n",
              "<table border=\"1\" class=\"dataframe\">\n",
              "  <thead>\n",
              "    <tr style=\"text-align: right;\">\n",
              "      <th></th>\n",
              "      <th>MedInc</th>\n",
              "      <th>HouseAge</th>\n",
              "      <th>AveRooms</th>\n",
              "      <th>AveBedrms</th>\n",
              "      <th>Population</th>\n",
              "      <th>AveOccup</th>\n",
              "      <th>Latitude</th>\n",
              "      <th>Longitude</th>\n",
              "    </tr>\n",
              "  </thead>\n",
              "  <tbody>\n",
              "    <tr>\n",
              "      <th>0</th>\n",
              "      <td>8.3252</td>\n",
              "      <td>41.0</td>\n",
              "      <td>6.984127</td>\n",
              "      <td>1.023810</td>\n",
              "      <td>322.0</td>\n",
              "      <td>2.555556</td>\n",
              "      <td>37.88</td>\n",
              "      <td>-122.23</td>\n",
              "    </tr>\n",
              "    <tr>\n",
              "      <th>1</th>\n",
              "      <td>8.3014</td>\n",
              "      <td>21.0</td>\n",
              "      <td>6.238137</td>\n",
              "      <td>0.971880</td>\n",
              "      <td>2401.0</td>\n",
              "      <td>2.109842</td>\n",
              "      <td>37.86</td>\n",
              "      <td>-122.22</td>\n",
              "    </tr>\n",
              "    <tr>\n",
              "      <th>2</th>\n",
              "      <td>7.2574</td>\n",
              "      <td>52.0</td>\n",
              "      <td>8.288136</td>\n",
              "      <td>1.073446</td>\n",
              "      <td>496.0</td>\n",
              "      <td>2.802260</td>\n",
              "      <td>37.85</td>\n",
              "      <td>-122.24</td>\n",
              "    </tr>\n",
              "    <tr>\n",
              "      <th>3</th>\n",
              "      <td>5.6431</td>\n",
              "      <td>52.0</td>\n",
              "      <td>5.817352</td>\n",
              "      <td>1.073059</td>\n",
              "      <td>558.0</td>\n",
              "      <td>2.547945</td>\n",
              "      <td>37.85</td>\n",
              "      <td>-122.25</td>\n",
              "    </tr>\n",
              "    <tr>\n",
              "      <th>4</th>\n",
              "      <td>3.8462</td>\n",
              "      <td>52.0</td>\n",
              "      <td>6.281853</td>\n",
              "      <td>1.081081</td>\n",
              "      <td>565.0</td>\n",
              "      <td>2.181467</td>\n",
              "      <td>37.85</td>\n",
              "      <td>-122.25</td>\n",
              "    </tr>\n",
              "  </tbody>\n",
              "</table>\n",
              "</div>"
            ],
            "text/plain": [
              "   MedInc  HouseAge  AveRooms  AveBedrms  Population  AveOccup  Latitude  \\\n",
              "0  8.3252      41.0  6.984127   1.023810       322.0  2.555556     37.88   \n",
              "1  8.3014      21.0  6.238137   0.971880      2401.0  2.109842     37.86   \n",
              "2  7.2574      52.0  8.288136   1.073446       496.0  2.802260     37.85   \n",
              "3  5.6431      52.0  5.817352   1.073059       558.0  2.547945     37.85   \n",
              "4  3.8462      52.0  6.281853   1.081081       565.0  2.181467     37.85   \n",
              "\n",
              "   Longitude  \n",
              "0    -122.23  \n",
              "1    -122.22  \n",
              "2    -122.24  \n",
              "3    -122.25  \n",
              "4    -122.25  "
            ]
          },
          "execution_count": 255,
          "metadata": {},
          "output_type": "execute_result"
        }
      ],
      "source": [
        "data = fetch_california_housing()\n",
        "X = pd.DataFrame(data=data[\"data\"], columns=data[\"feature_names\"])\n",
        "y = data[\"target\"]\n",
        "X.head()"
      ]
    },
    {
      "cell_type": "code",
      "execution_count": null,
      "metadata": {
        "id": "KIQrMgex_gbk",
        "outputId": "9586de8c-234b-4438-ac5d-3dda402d3ede"
      },
      "outputs": [
        {
          "data": {
            "text/plain": [
              "array([4.526, 3.585, 3.521, ..., 0.923, 0.847, 0.894])"
            ]
          },
          "execution_count": 256,
          "metadata": {},
          "output_type": "execute_result"
        }
      ],
      "source": [
        "y"
      ]
    },
    {
      "cell_type": "code",
      "execution_count": null,
      "metadata": {
        "id": "Gz2oW4U31BG7",
        "outputId": "17549221-fa76-4dae-893b-eba8be740842"
      },
      "outputs": [
        {
          "name": "stdout",
          "output_type": "stream",
          "text": [
            ".. _california_housing_dataset:\n",
            "\n",
            "California Housing dataset\n",
            "--------------------------\n",
            "\n",
            "**Data Set Characteristics:**\n",
            "\n",
            "    :Number of Instances: 20640\n",
            "\n",
            "    :Number of Attributes: 8 numeric, predictive attributes and the target\n",
            "\n",
            "    :Attribute Information:\n",
            "        - MedInc        median income in block group\n",
            "        - HouseAge      median house age in block group\n",
            "        - AveRooms      average number of rooms per household\n",
            "        - AveBedrms     average number of bedrooms per household\n",
            "        - Population    block group population\n",
            "        - AveOccup      average number of household members\n",
            "        - Latitude      block group latitude\n",
            "        - Longitude     block group longitude\n",
            "\n",
            "    :Missing Attribute Values: None\n",
            "\n",
            "This dataset was obtained from the StatLib repository.\n",
            "https://www.dcc.fc.up.pt/~ltorgo/Regression/cal_housing.html\n",
            "\n",
            "The target variable is the median house value for California districts,\n",
            "expressed in hundreds of thousands of dollars ($100,000).\n",
            "\n",
            "This dataset was derived from the 1990 U.S. census, using one row per census\n",
            "block group. A block group is the smallest geographical unit for which the U.S.\n",
            "Census Bureau publishes sample data (a block group typically has a population\n",
            "of 600 to 3,000 people).\n",
            "\n",
            "An household is a group of people residing within a home. Since the average\n",
            "number of rooms and bedrooms in this dataset are provided per household, these\n",
            "columns may take surpinsingly large values for block groups with few households\n",
            "and many empty houses, such as vacation resorts.\n",
            "\n",
            "It can be downloaded/loaded using the\n",
            ":func:`sklearn.datasets.fetch_california_housing` function.\n",
            "\n",
            ".. topic:: References\n",
            "\n",
            "    - Pace, R. Kelley and Ronald Barry, Sparse Spatial Autoregressions,\n",
            "      Statistics and Probability Letters, 33 (1997) 291-297\n",
            "\n"
          ]
        }
      ],
      "source": [
        "print(data['DESCR'])"
      ]
    },
    {
      "cell_type": "code",
      "execution_count": null,
      "metadata": {
        "id": "RubTmoRi1BG8"
      },
      "outputs": [],
      "source": [
        "thresholds, variances, threshold_best, variance_best = find_best_split(X[\"MedInc\"], y, task=\"regression\", feature_type=\"real\")"
      ]
    },
    {
      "cell_type": "markdown",
      "metadata": {
        "id": "JZorRZfy_gbk"
      },
      "source": [
        "Выведите график зависимости значения критерия ошибки от порогового значения при разбиении вершины по признаку `MedInc`."
      ]
    },
    {
      "cell_type": "code",
      "execution_count": null,
      "metadata": {
        "id": "ilGJ4kel_gbk",
        "outputId": "3653fc80-c7fa-4019-fff7-4d780a69a697"
      },
      "outputs": [
        {
          "data": {
            "image/png": "[encoded data removed]",
            "text/plain": [
              "<Figure size 1700x800 with 1 Axes>"
            ]
          },
          "metadata": {},
          "output_type": "display_data"
        }
      ],
      "source": [
        "plt.figure(figsize=(17, 8))\n",
        "plt.plot(thresholds, variances, color = 'green')\n",
        "plt.title('График зависимости значения критерия ошибки от порогового значения при разбиении вершины по признаку MedInc.')\n",
        "plt.xlabel('Thresholds')\n",
        "plt.ylabel('Variances')\n",
        "plt.show()"
      ]
    },
    {
      "cell_type": "markdown",
      "metadata": {
        "id": "pc2GXumE_gbk"
      },
      "source": [
        "Найдите лучший, с вашей точки зрения, предикат первой вершины решающего дерева."
      ]
    },
    {
      "cell_type": "code",
      "execution_count": null,
      "metadata": {
        "id": "L94YU_dH_gbk",
        "outputId": "aa615490-a232-400c-c26b-077161e313c1"
      },
      "outputs": [
        {
          "data": {
            "text/plain": [
              "5.03515"
            ]
          },
          "execution_count": 259,
          "metadata": {},
          "output_type": "execute_result"
        }
      ],
      "source": [
        "(find_best_split(X[\"MedInc\"], y, task=\"regression\", feature_type=\"real\"))[2]"
      ]
    },
    {
      "cell_type": "markdown",
      "metadata": {
        "id": "Ql0A1rWY_gbm"
      },
      "source": [
        "## Часть 3: Бэггинг и случайный лес (4 балла)"
      ]
    },
    {
      "cell_type": "markdown",
      "metadata": {
        "id": "6lK0f3ek_gbm"
      },
      "source": [
        "В данной части мы будем работать [с задачей предсказания диабета у пациента](https://www.kaggle.com/uciml/pima-indians-diabetes-database/data). Посмотрим на работу бэггинга над решающими деревьями и случайного леса, сравним их работу."
      ]
    },
    {
      "cell_type": "code",
      "execution_count": 5,
      "metadata": {
        "id": "b8NPB-RM_gbm"
      },
      "outputs": [],
      "source": [
        "from sklearn.ensemble import BaggingClassifier, RandomForestClassifier\n",
        "from sklearn.metrics import accuracy_score, precision_score, recall_score, roc_auc_score\n",
        "from sklearn.model_selection import train_test_split\n",
        "from sklearn.tree import DecisionTreeClassifier\n",
        "from sklearn.metrics import f1_score"
      ]
    },
    {
      "cell_type": "code",
      "execution_count": 6,
      "metadata": {
        "colab": {
          "base_uri": "https://localhost:8080/",
          "height": 224
        },
        "id": "KMeajNel_gbm",
        "outputId": "eda3a3b0-e8e6-44fb-e9a8-5543bf7c4405",
        "scrolled": true
      },
      "outputs": [
        {
          "output_type": "stream",
          "name": "stdout",
          "text": [
            "Dataset shape: (768, 9)\n"
          ]
        },
        {
          "output_type": "execute_result",
          "data": {
            "text/plain": [
              "   Pregnancies  Glucose  BloodPressure  SkinThickness  Insulin   BMI  \\\n",
              "0            6      148             72             35        0  33.6   \n",
              "1            1       85             66             29        0  26.6   \n",
              "2            8      183             64              0        0  23.3   \n",
              "3            1       89             66             23       94  28.1   \n",
              "4            0      137             40             35      168  43.1   \n",
              "\n",
              "   DiabetesPedigreeFunction  Age  Outcome  \n",
              "0                     0.627   50        1  \n",
              "1                     0.351   31        0  \n",
              "2                     0.672   32        1  \n",
              "3                     0.167   21        0  \n",
              "4                     2.288   33        1  "
            ],
            "text/html": [
              "\n",
              "  <div id=\"df-bd6a562a-fe33-4274-944f-3bf40151ae49\" class=\"colab-df-container\">\n",
              "    <div>\n",
              "<style scoped>\n",
              "    .dataframe tbody tr th:only-of-type {\n",
              "        vertical-align: middle;\n",
              "    }\n",
              "\n",
              "    .dataframe tbody tr th {\n",
              "        vertical-align: top;\n",
              "    }\n",
              "\n",
              "    .dataframe thead th {\n",
              "        text-align: right;\n",
              "    }\n",
              "</style>\n",
              "<table border=\"1\" class=\"dataframe\">\n",
              "  <thead>\n",
              "    <tr style=\"text-align: right;\">\n",
              "      <th></th>\n",
              "      <th>Pregnancies</th>\n",
              "      <th>Glucose</th>\n",
              "      <th>BloodPressure</th>\n",
              "      <th>SkinThickness</th>\n",
              "      <th>Insulin</th>\n",
              "      <th>BMI</th>\n",
              "      <th>DiabetesPedigreeFunction</th>\n",
              "      <th>Age</th>\n",
              "      <th>Outcome</th>\n",
              "    </tr>\n",
              "  </thead>\n",
              "  <tbody>\n",
              "    <tr>\n",
              "      <th>0</th>\n",
              "      <td>6</td>\n",
              "      <td>148</td>\n",
              "      <td>72</td>\n",
              "      <td>35</td>\n",
              "      <td>0</td>\n",
              "      <td>33.6</td>\n",
              "      <td>0.627</td>\n",
              "      <td>50</td>\n",
              "      <td>1</td>\n",
              "    </tr>\n",
              "    <tr>\n",
              "      <th>1</th>\n",
              "      <td>1</td>\n",
              "      <td>85</td>\n",
              "      <td>66</td>\n",
              "      <td>29</td>\n",
              "      <td>0</td>\n",
              "      <td>26.6</td>\n",
              "      <td>0.351</td>\n",
              "      <td>31</td>\n",
              "      <td>0</td>\n",
              "    </tr>\n",
              "    <tr>\n",
              "      <th>2</th>\n",
              "      <td>8</td>\n",
              "      <td>183</td>\n",
              "      <td>64</td>\n",
              "      <td>0</td>\n",
              "      <td>0</td>\n",
              "      <td>23.3</td>\n",
              "      <td>0.672</td>\n",
              "      <td>32</td>\n",
              "      <td>1</td>\n",
              "    </tr>\n",
              "    <tr>\n",
              "      <th>3</th>\n",
              "      <td>1</td>\n",
              "      <td>89</td>\n",
              "      <td>66</td>\n",
              "      <td>23</td>\n",
              "      <td>94</td>\n",
              "      <td>28.1</td>\n",
              "      <td>0.167</td>\n",
              "      <td>21</td>\n",
              "      <td>0</td>\n",
              "    </tr>\n",
              "    <tr>\n",
              "      <th>4</th>\n",
              "      <td>0</td>\n",
              "      <td>137</td>\n",
              "      <td>40</td>\n",
              "      <td>35</td>\n",
              "      <td>168</td>\n",
              "      <td>43.1</td>\n",
              "      <td>2.288</td>\n",
              "      <td>33</td>\n",
              "      <td>1</td>\n",
              "    </tr>\n",
              "  </tbody>\n",
              "</table>\n",
              "</div>\n",
              "    <div class=\"colab-df-buttons\">\n",
              "\n",
              "  <div class=\"colab-df-container\">\n",
              "    <button class=\"colab-df-convert\" onclick=\"convertToInteractive('df-bd6a562a-fe33-4274-944f-3bf40151ae49')\"\n",
              "            title=\"Convert this dataframe to an interactive table.\"\n",
              "            style=\"display:none;\">\n",
              "\n",
              "  <svg xmlns=\"http://www.w3.org/2000/svg\" height=\"24px\" viewBox=\"0 -960 960 960\">\n",
              "    <path d=\"M120-120v-720h720v720H120Zm60-500h600v-160H180v160Zm220 220h160v-160H400v160Zm0 220h160v-160H400v160ZM180-400h160v-160H180v160Zm440 0h160v-160H620v160ZM180-180h160v-160H180v160Zm440 0h160v-160H620v160Z\"/>\n",
              "  </svg>\n",
              "    </button>\n",
              "\n",
              "  <style>\n",
              "    .colab-df-container {\n",
              "      display:flex;\n",
              "      gap: 12px;\n",
              "    }\n",
              "\n",
              "    .colab-df-convert {\n",
              "      background-color: #E8F0FE;\n",
              "      border: none;\n",
              "      border-radius: 50%;\n",
              "      cursor: pointer;\n",
              "      display: none;\n",
              "      fill: #1967D2;\n",
              "      height: 32px;\n",
              "      padding: 0 0 0 0;\n",
              "      width: 32px;\n",
              "    }\n",
              "\n",
              "    .colab-df-convert:hover {\n",
              "      background-color: #E2EBFA;\n",
              "      box-shadow: 0px 1px 2px rgba(60, 64, 67, 0.3), 0px 1px 3px 1px rgba(60, 64, 67, 0.15);\n",
              "      fill: #174EA6;\n",
              "    }\n",
              "\n",
              "    .colab-df-buttons div {\n",
              "      margin-bottom: 4px;\n",
              "    }\n",
              "\n",
              "    [theme=dark] .colab-df-convert {\n",
              "      background-color: #3B4455;\n",
              "      fill: #D2E3FC;\n",
              "    }\n",
              "\n",
              "    [theme=dark] .colab-df-convert:hover {\n",
              "      background-color: #434B5C;\n",
              "      box-shadow: 0px 1px 3px 1px rgba(0, 0, 0, 0.15);\n",
              "      filter: drop-shadow(0px 1px 2px rgba(0, 0, 0, 0.3));\n",
              "      fill: #FFFFFF;\n",
              "    }\n",
              "  </style>\n",
              "\n",
              "    <script>\n",
              "      const buttonEl =\n",
              "        document.querySelector('#df-bd6a562a-fe33-4274-944f-3bf40151ae49 button.colab-df-convert');\n",
              "      buttonEl.style.display =\n",
              "        google.colab.kernel.accessAllowed ? 'block' : 'none';\n",
              "\n",
              "      async function convertToInteractive(key) {\n",
              "        const element = document.querySelector('#df-bd6a562a-fe33-4274-944f-3bf40151ae49');\n",
              "        const dataTable =\n",
              "          await google.colab.kernel.invokeFunction('convertToInteractive',\n",
              "                                                    [key], {});\n",
              "        if (!dataTable) return;\n",
              "\n",
              "        const docLinkHtml = 'Like what you see? Visit the ' +\n",
              "          '<a target=\"_blank\" href=https://colab.research.google.com/notebooks/data_table.ipynb>data table notebook</a>'\n",
              "          + ' to learn more about interactive tables.';\n",
              "        element.innerHTML = '';\n",
              "        dataTable['output_type'] = 'display_data';\n",
              "        await google.colab.output.renderOutput(dataTable, element);\n",
              "        const docLink = document.createElement('div');\n",
              "        docLink.innerHTML = docLinkHtml;\n",
              "        element.appendChild(docLink);\n",
              "      }\n",
              "    </script>\n",
              "  </div>\n",
              "\n",
              "\n",
              "<div id=\"df-fedd8d3d-5bea-4c68-ba50-3457e13225b7\">\n",
              "  <button class=\"colab-df-quickchart\" onclick=\"quickchart('df-fedd8d3d-5bea-4c68-ba50-3457e13225b7')\"\n",
              "            title=\"Suggest charts.\"\n",
              "            style=\"display:none;\">\n",
              "\n",
              "<svg xmlns=\"http://www.w3.org/2000/svg\" height=\"24px\"viewBox=\"0 0 24 24\"\n",
              "     width=\"24px\">\n",
              "    <g>\n",
              "        <path d=\"M19 3H5c-1.1 0-2 .9-2 2v14c0 1.1.9 2 2 2h14c1.1 0 2-.9 2-2V5c0-1.1-.9-2-2-2zM9 17H7v-7h2v7zm4 0h-2V7h2v10zm4 0h-2v-4h2v4z\"/>\n",
              "    </g>\n",
              "</svg>\n",
              "  </button>\n",
              "\n",
              "<style>\n",
              "  .colab-df-quickchart {\n",
              "    background-color: #E8F0FE;\n",
              "    border: none;\n",
              "    border-radius: 50%;\n",
              "    cursor: pointer;\n",
              "    display: none;\n",
              "    fill: #1967D2;\n",
              "    height: 32px;\n",
              "    padding: 0 0 0 0;\n",
              "    width: 32px;\n",
              "  }\n",
              "\n",
              "  .colab-df-quickchart:hover {\n",
              "    background-color: #E2EBFA;\n",
              "    box-shadow: 0px 1px 2px rgba(60, 64, 67, 0.3), 0px 1px 3px 1px rgba(60, 64, 67, 0.15);\n",
              "    fill: #174EA6;\n",
              "  }\n",
              "\n",
              "  [theme=dark] .colab-df-quickchart {\n",
              "    background-color: #3B4455;\n",
              "    fill: #D2E3FC;\n",
              "  }\n",
              "\n",
              "  [theme=dark] .colab-df-quickchart:hover {\n",
              "    background-color: #434B5C;\n",
              "    box-shadow: 0px 1px 3px 1px rgba(0, 0, 0, 0.15);\n",
              "    filter: drop-shadow(0px 1px 2px rgba(0, 0, 0, 0.3));\n",
              "    fill: #FFFFFF;\n",
              "  }\n",
              "</style>\n",
              "\n",
              "  <script>\n",
              "    async function quickchart(key) {\n",
              "      const charts = await google.colab.kernel.invokeFunction(\n",
              "          'suggestCharts', [key], {});\n",
              "    }\n",
              "    (() => {\n",
              "      let quickchartButtonEl =\n",
              "        document.querySelector('#df-fedd8d3d-5bea-4c68-ba50-3457e13225b7 button');\n",
              "      quickchartButtonEl.style.display =\n",
              "        google.colab.kernel.accessAllowed ? 'block' : 'none';\n",
              "    })();\n",
              "  </script>\n",
              "</div>\n",
              "    </div>\n",
              "  </div>\n"
            ]
          },
          "metadata": {},
          "execution_count": 6
        }
      ],
      "source": [
        "data = pd.read_csv('https://raw.githubusercontent.com/hse-ds/iad-intro-ds/master/2023/homeworks/hw07-trees/diabetes.csv')\n",
        "print(f\"Dataset shape: {data.shape}\")\n",
        "data.head()"
      ]
    },
    {
      "cell_type": "code",
      "execution_count": null,
      "metadata": {
        "colab": {
          "base_uri": "https://localhost:8080/"
        },
        "id": "JP-UhKbSMAsa",
        "outputId": "656893e0-6ad4-45de-97bc-ce6c16c27084"
      },
      "outputs": [
        {
          "name": "stdout",
          "output_type": "stream",
          "text": [
            "<class 'pandas.core.frame.DataFrame'>\n",
            "RangeIndex: 768 entries, 0 to 767\n",
            "Data columns (total 9 columns):\n",
            " #   Column                    Non-Null Count  Dtype  \n",
            "---  ------                    --------------  -----  \n",
            " 0   Pregnancies               768 non-null    int64  \n",
            " 1   Glucose                   768 non-null    int64  \n",
            " 2   BloodPressure             768 non-null    int64  \n",
            " 3   SkinThickness             768 non-null    int64  \n",
            " 4   Insulin                   768 non-null    int64  \n",
            " 5   BMI                       768 non-null    float64\n",
            " 6   DiabetesPedigreeFunction  768 non-null    float64\n",
            " 7   Age                       768 non-null    int64  \n",
            " 8   Outcome                   768 non-null    int64  \n",
            "dtypes: float64(2), int64(7)\n",
            "memory usage: 54.1 KB\n"
          ]
        }
      ],
      "source": [
        "data.info()"
      ]
    },
    {
      "cell_type": "markdown",
      "metadata": {
        "id": "Xl1xzhUe_gbn"
      },
      "source": [
        "Посмотрим на распределение целевой переменной"
      ]
    },
    {
      "cell_type": "code",
      "execution_count": null,
      "metadata": {
        "colab": {
          "base_uri": "https://localhost:8080/",
          "height": 430
        },
        "id": "YdmGmsqu_gbn",
        "outputId": "cb01617a-6467-4bc6-918a-b40b4ecc8177"
      },
      "outputs": [
        {
          "data": {
            "image/png": "[encoded data removed]",
            "text/plain": [
              "<Figure size 640x480 with 1 Axes>"
            ]
          },
          "metadata": {},
          "output_type": "display_data"
        }
      ],
      "source": [
        "data['Outcome'].hist()\n",
        "plt.show()"
      ]
    },
    {
      "cell_type": "markdown",
      "metadata": {
        "id": "83Wud0d__gbn"
      },
      "source": [
        "**Задание 3.1 (0.5 балла)** Разделите данные на признаки и целевую переменную. Разбейте датасет на обучающую и тестовую части в отношении 7:3. Затем разделите обучающую выборку на обучающую-обучающую и обучающую-валидационную в соотношении 7:3 (то есть в итоге должно получиться три выборки: обучающая-обучающая (0.49 от исходного датасета), обучающая-валидационная (0.21 от исходного датасета) и тестовая (0.3 от исходного датасета)."
      ]
    },
    {
      "cell_type": "code",
      "execution_count": null,
      "metadata": {
        "colab": {
          "base_uri": "https://localhost:8080/",
          "height": 424
        },
        "id": "qPuGoY-1_gbn",
        "outputId": "af3cd8bd-1f9b-45e6-e7e0-bbb2fb387639"
      },
      "outputs": [
        {
          "data": {
            "text/html": [
              "<div>\n",
              "<style scoped>\n",
              "    .dataframe tbody tr th:only-of-type {\n",
              "        vertical-align: middle;\n",
              "    }\n",
              "\n",
              "    .dataframe tbody tr th {\n",
              "        vertical-align: top;\n",
              "    }\n",
              "\n",
              "    .dataframe thead th {\n",
              "        text-align: right;\n",
              "    }\n",
              "</style>\n",
              "<table border=\"1\" class=\"dataframe\">\n",
              "  <thead>\n",
              "    <tr style=\"text-align: right;\">\n",
              "      <th></th>\n",
              "      <th>Pregnancies</th>\n",
              "      <th>Glucose</th>\n",
              "      <th>BloodPressure</th>\n",
              "      <th>SkinThickness</th>\n",
              "      <th>Insulin</th>\n",
              "      <th>BMI</th>\n",
              "      <th>DiabetesPedigreeFunction</th>\n",
              "      <th>Age</th>\n",
              "    </tr>\n",
              "  </thead>\n",
              "  <tbody>\n",
              "    <tr>\n",
              "      <th>491</th>\n",
              "      <td>2</td>\n",
              "      <td>89</td>\n",
              "      <td>90</td>\n",
              "      <td>30</td>\n",
              "      <td>0</td>\n",
              "      <td>33.5</td>\n",
              "      <td>0.292</td>\n",
              "      <td>42</td>\n",
              "    </tr>\n",
              "    <tr>\n",
              "      <th>69</th>\n",
              "      <td>4</td>\n",
              "      <td>146</td>\n",
              "      <td>85</td>\n",
              "      <td>27</td>\n",
              "      <td>100</td>\n",
              "      <td>28.9</td>\n",
              "      <td>0.189</td>\n",
              "      <td>27</td>\n",
              "    </tr>\n",
              "    <tr>\n",
              "      <th>667</th>\n",
              "      <td>10</td>\n",
              "      <td>111</td>\n",
              "      <td>70</td>\n",
              "      <td>27</td>\n",
              "      <td>0</td>\n",
              "      <td>27.5</td>\n",
              "      <td>0.141</td>\n",
              "      <td>40</td>\n",
              "    </tr>\n",
              "    <tr>\n",
              "      <th>566</th>\n",
              "      <td>1</td>\n",
              "      <td>99</td>\n",
              "      <td>72</td>\n",
              "      <td>30</td>\n",
              "      <td>18</td>\n",
              "      <td>38.6</td>\n",
              "      <td>0.412</td>\n",
              "      <td>21</td>\n",
              "    </tr>\n",
              "    <tr>\n",
              "      <th>97</th>\n",
              "      <td>1</td>\n",
              "      <td>71</td>\n",
              "      <td>48</td>\n",
              "      <td>18</td>\n",
              "      <td>76</td>\n",
              "      <td>20.4</td>\n",
              "      <td>0.323</td>\n",
              "      <td>22</td>\n",
              "    </tr>\n",
              "    <tr>\n",
              "      <th>...</th>\n",
              "      <td>...</td>\n",
              "      <td>...</td>\n",
              "      <td>...</td>\n",
              "      <td>...</td>\n",
              "      <td>...</td>\n",
              "      <td>...</td>\n",
              "      <td>...</td>\n",
              "      <td>...</td>\n",
              "    </tr>\n",
              "    <tr>\n",
              "      <th>369</th>\n",
              "      <td>1</td>\n",
              "      <td>133</td>\n",
              "      <td>102</td>\n",
              "      <td>28</td>\n",
              "      <td>140</td>\n",
              "      <td>32.8</td>\n",
              "      <td>0.234</td>\n",
              "      <td>45</td>\n",
              "    </tr>\n",
              "    <tr>\n",
              "      <th>320</th>\n",
              "      <td>4</td>\n",
              "      <td>129</td>\n",
              "      <td>60</td>\n",
              "      <td>12</td>\n",
              "      <td>231</td>\n",
              "      <td>27.5</td>\n",
              "      <td>0.527</td>\n",
              "      <td>31</td>\n",
              "    </tr>\n",
              "    <tr>\n",
              "      <th>527</th>\n",
              "      <td>3</td>\n",
              "      <td>116</td>\n",
              "      <td>74</td>\n",
              "      <td>15</td>\n",
              "      <td>105</td>\n",
              "      <td>26.3</td>\n",
              "      <td>0.107</td>\n",
              "      <td>24</td>\n",
              "    </tr>\n",
              "    <tr>\n",
              "      <th>125</th>\n",
              "      <td>1</td>\n",
              "      <td>88</td>\n",
              "      <td>30</td>\n",
              "      <td>42</td>\n",
              "      <td>99</td>\n",
              "      <td>55.0</td>\n",
              "      <td>0.496</td>\n",
              "      <td>26</td>\n",
              "    </tr>\n",
              "    <tr>\n",
              "      <th>265</th>\n",
              "      <td>5</td>\n",
              "      <td>96</td>\n",
              "      <td>74</td>\n",
              "      <td>18</td>\n",
              "      <td>67</td>\n",
              "      <td>33.6</td>\n",
              "      <td>0.997</td>\n",
              "      <td>43</td>\n",
              "    </tr>\n",
              "  </tbody>\n",
              "</table>\n",
              "<p>537 rows × 8 columns</p>\n",
              "</div>"
            ],
            "text/plain": [
              "     Pregnancies  Glucose  BloodPressure  SkinThickness  Insulin   BMI  \\\n",
              "491            2       89             90             30        0  33.5   \n",
              "69             4      146             85             27      100  28.9   \n",
              "667           10      111             70             27        0  27.5   \n",
              "566            1       99             72             30       18  38.6   \n",
              "97             1       71             48             18       76  20.4   \n",
              "..           ...      ...            ...            ...      ...   ...   \n",
              "369            1      133            102             28      140  32.8   \n",
              "320            4      129             60             12      231  27.5   \n",
              "527            3      116             74             15      105  26.3   \n",
              "125            1       88             30             42       99  55.0   \n",
              "265            5       96             74             18       67  33.6   \n",
              "\n",
              "     DiabetesPedigreeFunction  Age  \n",
              "491                     0.292   42  \n",
              "69                      0.189   27  \n",
              "667                     0.141   40  \n",
              "566                     0.412   21  \n",
              "97                      0.323   22  \n",
              "..                        ...  ...  \n",
              "369                     0.234   45  \n",
              "320                     0.527   31  \n",
              "527                     0.107   24  \n",
              "125                     0.496   26  \n",
              "265                     0.997   43  \n",
              "\n",
              "[537 rows x 8 columns]"
            ]
          },
          "execution_count": 130,
          "metadata": {},
          "output_type": "execute_result"
        }
      ],
      "source": [
        "# ᕕ(╭ರ╭ ͟ʖ╮•́)⊃¤=(————\n",
        "from sklearn.model_selection import train_test_split\n",
        "y = data['Outcome']\n",
        "X = data.drop(['Outcome'], axis = 1)\n",
        "\n",
        "X_train, X_test, y_train, y_test = train_test_split(X, y, test_size=0.3, random_state = 10)\n",
        "X_train"
      ]
    },
    {
      "cell_type": "code",
      "execution_count": null,
      "metadata": {
        "colab": {
          "base_uri": "https://localhost:8080/",
          "height": 424
        },
        "id": "cVqQoq3NMoWc",
        "outputId": "58c0655f-1157-40df-b661-636c628f81d3"
      },
      "outputs": [
        {
          "data": {
            "text/html": [
              "<div>\n",
              "<style scoped>\n",
              "    .dataframe tbody tr th:only-of-type {\n",
              "        vertical-align: middle;\n",
              "    }\n",
              "\n",
              "    .dataframe tbody tr th {\n",
              "        vertical-align: top;\n",
              "    }\n",
              "\n",
              "    .dataframe thead th {\n",
              "        text-align: right;\n",
              "    }\n",
              "</style>\n",
              "<table border=\"1\" class=\"dataframe\">\n",
              "  <thead>\n",
              "    <tr style=\"text-align: right;\">\n",
              "      <th></th>\n",
              "      <th>Pregnancies</th>\n",
              "      <th>Glucose</th>\n",
              "      <th>BloodPressure</th>\n",
              "      <th>SkinThickness</th>\n",
              "      <th>Insulin</th>\n",
              "      <th>BMI</th>\n",
              "      <th>DiabetesPedigreeFunction</th>\n",
              "      <th>Age</th>\n",
              "    </tr>\n",
              "  </thead>\n",
              "  <tbody>\n",
              "    <tr>\n",
              "      <th>388</th>\n",
              "      <td>5</td>\n",
              "      <td>144</td>\n",
              "      <td>82</td>\n",
              "      <td>26</td>\n",
              "      <td>285</td>\n",
              "      <td>32.0</td>\n",
              "      <td>0.452</td>\n",
              "      <td>58</td>\n",
              "    </tr>\n",
              "    <tr>\n",
              "      <th>107</th>\n",
              "      <td>4</td>\n",
              "      <td>144</td>\n",
              "      <td>58</td>\n",
              "      <td>28</td>\n",
              "      <td>140</td>\n",
              "      <td>29.5</td>\n",
              "      <td>0.287</td>\n",
              "      <td>37</td>\n",
              "    </tr>\n",
              "    <tr>\n",
              "      <th>597</th>\n",
              "      <td>1</td>\n",
              "      <td>89</td>\n",
              "      <td>24</td>\n",
              "      <td>19</td>\n",
              "      <td>25</td>\n",
              "      <td>27.8</td>\n",
              "      <td>0.559</td>\n",
              "      <td>21</td>\n",
              "    </tr>\n",
              "    <tr>\n",
              "      <th>648</th>\n",
              "      <td>11</td>\n",
              "      <td>136</td>\n",
              "      <td>84</td>\n",
              "      <td>35</td>\n",
              "      <td>130</td>\n",
              "      <td>28.3</td>\n",
              "      <td>0.260</td>\n",
              "      <td>42</td>\n",
              "    </tr>\n",
              "    <tr>\n",
              "      <th>471</th>\n",
              "      <td>0</td>\n",
              "      <td>137</td>\n",
              "      <td>70</td>\n",
              "      <td>38</td>\n",
              "      <td>0</td>\n",
              "      <td>33.2</td>\n",
              "      <td>0.170</td>\n",
              "      <td>22</td>\n",
              "    </tr>\n",
              "    <tr>\n",
              "      <th>...</th>\n",
              "      <td>...</td>\n",
              "      <td>...</td>\n",
              "      <td>...</td>\n",
              "      <td>...</td>\n",
              "      <td>...</td>\n",
              "      <td>...</td>\n",
              "      <td>...</td>\n",
              "      <td>...</td>\n",
              "    </tr>\n",
              "    <tr>\n",
              "      <th>376</th>\n",
              "      <td>0</td>\n",
              "      <td>98</td>\n",
              "      <td>82</td>\n",
              "      <td>15</td>\n",
              "      <td>84</td>\n",
              "      <td>25.2</td>\n",
              "      <td>0.299</td>\n",
              "      <td>22</td>\n",
              "    </tr>\n",
              "    <tr>\n",
              "      <th>127</th>\n",
              "      <td>1</td>\n",
              "      <td>118</td>\n",
              "      <td>58</td>\n",
              "      <td>36</td>\n",
              "      <td>94</td>\n",
              "      <td>33.3</td>\n",
              "      <td>0.261</td>\n",
              "      <td>23</td>\n",
              "    </tr>\n",
              "    <tr>\n",
              "      <th>8</th>\n",
              "      <td>2</td>\n",
              "      <td>197</td>\n",
              "      <td>70</td>\n",
              "      <td>45</td>\n",
              "      <td>543</td>\n",
              "      <td>30.5</td>\n",
              "      <td>0.158</td>\n",
              "      <td>53</td>\n",
              "    </tr>\n",
              "    <tr>\n",
              "      <th>673</th>\n",
              "      <td>3</td>\n",
              "      <td>123</td>\n",
              "      <td>100</td>\n",
              "      <td>35</td>\n",
              "      <td>240</td>\n",
              "      <td>57.3</td>\n",
              "      <td>0.880</td>\n",
              "      <td>22</td>\n",
              "    </tr>\n",
              "    <tr>\n",
              "      <th>447</th>\n",
              "      <td>0</td>\n",
              "      <td>95</td>\n",
              "      <td>80</td>\n",
              "      <td>45</td>\n",
              "      <td>92</td>\n",
              "      <td>36.5</td>\n",
              "      <td>0.330</td>\n",
              "      <td>26</td>\n",
              "    </tr>\n",
              "  </tbody>\n",
              "</table>\n",
              "<p>375 rows × 8 columns</p>\n",
              "</div>"
            ],
            "text/plain": [
              "     Pregnancies  Glucose  BloodPressure  SkinThickness  Insulin   BMI  \\\n",
              "388            5      144             82             26      285  32.0   \n",
              "107            4      144             58             28      140  29.5   \n",
              "597            1       89             24             19       25  27.8   \n",
              "648           11      136             84             35      130  28.3   \n",
              "471            0      137             70             38        0  33.2   \n",
              "..           ...      ...            ...            ...      ...   ...   \n",
              "376            0       98             82             15       84  25.2   \n",
              "127            1      118             58             36       94  33.3   \n",
              "8              2      197             70             45      543  30.5   \n",
              "673            3      123            100             35      240  57.3   \n",
              "447            0       95             80             45       92  36.5   \n",
              "\n",
              "     DiabetesPedigreeFunction  Age  \n",
              "388                     0.452   58  \n",
              "107                     0.287   37  \n",
              "597                     0.559   21  \n",
              "648                     0.260   42  \n",
              "471                     0.170   22  \n",
              "..                        ...  ...  \n",
              "376                     0.299   22  \n",
              "127                     0.261   23  \n",
              "8                       0.158   53  \n",
              "673                     0.880   22  \n",
              "447                     0.330   26  \n",
              "\n",
              "[375 rows x 8 columns]"
            ]
          },
          "execution_count": 131,
          "metadata": {},
          "output_type": "execute_result"
        }
      ],
      "source": [
        "X_train_train, X_train_val, y_train_train, y_train_val = train_test_split(X_train, y_train, test_size=0.3, random_state = 10)\n",
        "X_train_train"
      ]
    },
    {
      "cell_type": "code",
      "execution_count": null,
      "metadata": {
        "colab": {
          "base_uri": "https://localhost:8080/"
        },
        "id": "ZqDTCAeeNOmE",
        "outputId": "0a3ec0d8-2daf-458f-861d-d517d0753e12"
      },
      "outputs": [
        {
          "name": "stdout",
          "output_type": "stream",
          "text": [
            "Обучающая-обучающая выборка составляет 49% от исходного датасета.\n",
            "Обучающая-валидационная выборка составляет 21% от исходного датасета.\n",
            "Тестовая выборка составляет 30% от исходного датасета.\n"
          ]
        }
      ],
      "source": [
        "# проверим пропорции получившегося разбиения\n",
        "print(f'Обучающая-обучающая выборка составляет {round((X_train_train.shape[0]/X.shape[0])*100)}% от исходного датасета.')\n",
        "print(f'Обучающая-валидационная выборка составляет {round(X_train_val.shape[0]/X.shape[0]*100)}% от исходного датасета.')\n",
        "print(f'Тестовая выборка составляет {round(X_test.shape[0]/X.shape[0]*100)}% от исходного датасета.')"
      ]
    },
    {
      "cell_type": "markdown",
      "metadata": {
        "id": "Ajfi4kbo_gbn"
      },
      "source": [
        "**Задание 3.2 (1 балл)** На обучающей-валидационной выборке подберите оптимальные значения гиперпараметров `max_depth` и `min_samples_leaf` для `DecisionTreeClassifier`. Для этого:\n",
        "1. Создайте списки с возможными значениями для перебора.\n",
        "2. Для каждой пары значений обучите дерево на обучающей-обучающей выборке и определите качество на обучающей-валидационной выборке. В качестве критерия будем использовать `f1-меру`.\n",
        "3. Выберите ту пару значений, которая даёт наилучшее качество на обучающей-валидационной выборке.\n",
        "\n",
        "\n",
        "Обучите решающее дерево с подобранными гиперпараметрами на **полной обучающей** выборке. Оцените качество классификации на тестовой выборке по метрикам `accuracy`, `precision` и `recall`, `auc_roc`."
      ]
    },
    {
      "cell_type": "code",
      "execution_count": null,
      "metadata": {
        "colab": {
          "base_uri": "https://localhost:8080/"
        },
        "id": "WHH3PiCK_gbn",
        "outputId": "9a882dc1-a8cb-4020-8b68-50afa248e8ae"
      },
      "outputs": [
        {
          "name": "stdout",
          "output_type": "stream",
          "text": [
            "Глубина дерева: 3\n",
            "Минимальное число объектов в листе: 1\n",
            "F1 score: 0.4222222222222222\n",
            "********************\n",
            "Глубина дерева: 3\n",
            "Минимальное число объектов в листе: 5\n",
            "F1 score: 0.367816091954023\n",
            "********************\n",
            "Глубина дерева: 3\n",
            "Минимальное число объектов в листе: 10\n",
            "F1 score: 0.47311827956989244\n",
            "********************\n",
            "Глубина дерева: 3\n",
            "Минимальное число объектов в листе: 15\n",
            "F1 score: 0.47311827956989244\n",
            "********************\n",
            "Глубина дерева: 3\n",
            "Минимальное число объектов в листе: 25\n",
            "F1 score: 0.47311827956989244\n",
            "********************\n",
            "Глубина дерева: 5\n",
            "Минимальное число объектов в листе: 1\n",
            "F1 score: 0.59375\n",
            "********************\n",
            "Глубина дерева: 5\n",
            "Минимальное число объектов в листе: 5\n",
            "F1 score: 0.5794392523364487\n",
            "********************\n",
            "Глубина дерева: 5\n",
            "Минимальное число объектов в листе: 10\n",
            "F1 score: 0.603448275862069\n",
            "********************\n",
            "Глубина дерева: 5\n",
            "Минимальное число объектов в листе: 15\n",
            "F1 score: 0.6181818181818182\n",
            "********************\n",
            "Глубина дерева: 5\n",
            "Минимальное число объектов в листе: 25\n",
            "F1 score: 0.5384615384615385\n",
            "********************\n",
            "Глубина дерева: 10\n",
            "Минимальное число объектов в листе: 1\n",
            "F1 score: 0.5357142857142857\n",
            "********************\n",
            "Глубина дерева: 10\n",
            "Минимальное число объектов в листе: 5\n",
            "F1 score: 0.5689655172413792\n",
            "********************\n",
            "Глубина дерева: 10\n",
            "Минимальное число объектов в листе: 10\n",
            "F1 score: 0.6178861788617886\n",
            "********************\n",
            "Глубина дерева: 10\n",
            "Минимальное число объектов в листе: 15\n",
            "F1 score: 0.6721311475409836\n",
            "********************\n",
            "Глубина дерева: 10\n",
            "Минимальное число объектов в листе: 25\n",
            "F1 score: 0.5384615384615385\n",
            "********************\n",
            "Глубина дерева: 30\n",
            "Минимальное число объектов в листе: 1\n",
            "F1 score: 0.5391304347826087\n",
            "********************\n",
            "Глубина дерева: 30\n",
            "Минимальное число объектов в листе: 5\n",
            "F1 score: 0.5689655172413792\n",
            "********************\n",
            "Глубина дерева: 30\n",
            "Минимальное число объектов в листе: 10\n",
            "F1 score: 0.6178861788617886\n",
            "********************\n",
            "Глубина дерева: 30\n",
            "Минимальное число объектов в листе: 15\n",
            "F1 score: 0.6721311475409836\n",
            "********************\n",
            "Глубина дерева: 30\n",
            "Минимальное число объектов в листе: 25\n",
            "F1 score: 0.5384615384615385\n",
            "********************\n",
            "Глубина дерева: 50\n",
            "Минимальное число объектов в листе: 1\n",
            "F1 score: 0.5391304347826087\n",
            "********************\n",
            "Глубина дерева: 50\n",
            "Минимальное число объектов в листе: 5\n",
            "F1 score: 0.5689655172413792\n",
            "********************\n",
            "Глубина дерева: 50\n",
            "Минимальное число объектов в листе: 10\n",
            "F1 score: 0.6178861788617886\n",
            "********************\n",
            "Глубина дерева: 50\n",
            "Минимальное число объектов в листе: 15\n",
            "F1 score: 0.6721311475409836\n",
            "********************\n",
            "Глубина дерева: 50\n",
            "Минимальное число объектов в листе: 25\n",
            "F1 score: 0.5384615384615385\n",
            "********************\n"
          ]
        }
      ],
      "source": [
        "# max_depth - максимальная глубина дерева\n",
        "# min_samples_leaf - минимальное число объектов в вершине дерева, необходимое для того, чтобы она стала листовой\n",
        "\n",
        "max_depth_list = [3, 5, 10, 30, 50]\n",
        "min_samples_leaf_list = [1, 5, 10, 15, 25]\n",
        "\n",
        "for max_depth in max_depth_list:\n",
        "    for min_samples_leaf in min_samples_leaf_list:\n",
        "        dt = DecisionTreeClassifier(\n",
        "            max_depth=max_depth, min_samples_leaf=min_samples_leaf, random_state=10)\n",
        "        dt.fit(X_train_train, y_train_train)\n",
        "        pred = dt.predict(X_train_val)\n",
        "        print(f'Глубина дерева: {max_depth}')\n",
        "        print(f'Минимальное число объектов в листе: {min_samples_leaf}')\n",
        "        print(\"F1 score:\", f1_score(y_train_val, pred))\n",
        "        print(\"********************\")"
      ]
    },
    {
      "cell_type": "markdown",
      "metadata": {
        "id": "5ueilH_xm_LO"
      },
      "source": [
        "**Пара значений, которая даёт наилучшее качество на обучающей-валидационной выборке:**\n",
        "\n",
        "Глубина дерева: 10\n",
        "\n",
        "Минимальное число объектов в листе: 15\n",
        "\n",
        "F1 score: 0.6721311475409836"
      ]
    },
    {
      "cell_type": "code",
      "execution_count": null,
      "metadata": {
        "colab": {
          "base_uri": "https://localhost:8080/"
        },
        "id": "bixIM2x3nL-i",
        "outputId": "3e50e8c2-b264-42e1-de04-d9db2e1cbd9a",
        "scrolled": true
      },
      "outputs": [
        {
          "name": "stdout",
          "output_type": "stream",
          "text": [
            "Accuracy: 0.7229437229437229\n",
            "Precision: 0.6455696202531646\n",
            "Recall: 0.5862068965517241\n",
            "AUC-ROC: 0.6958812260536399\n"
          ]
        }
      ],
      "source": [
        "dt = DecisionTreeClassifier(max_depth=10, min_samples_leaf=15, random_state=10)\n",
        "dt.fit(X_train, y_train)\n",
        "dt_pred = dt.predict(X_test)\n",
        "print(f'Accuracy: {accuracy_score(y_test, dt_pred)}')\n",
        "print(f'Precision: {precision_score(y_test, dt_pred)}')\n",
        "print(f'Recall: {recall_score(y_test, dt_pred)}')\n",
        "print(f'AUC-ROC: {roc_auc_score(y_test, dt_pred)}')"
      ]
    },
    {
      "cell_type": "markdown",
      "metadata": {
        "id": "XNhc1oHu_gbr"
      },
      "source": [
        "**Задание 3.3 (0.5 балла)** Обучите [`BaggingClassifier`](https://scikit-learn.org/stable/modules/generated/sklearn.ensemble.BaggingClassifier.html) на 50 деревьях на **полной обучающей** выборке. Оцените качество классификации на тестовой выборке по тем же метрикам."
      ]
    },
    {
      "cell_type": "code",
      "execution_count": null,
      "metadata": {
        "colab": {
          "base_uri": "https://localhost:8080/"
        },
        "id": "5WphfI9D_gbr",
        "outputId": "ecae9b58-5c07-4b77-81b1-247f298b0c96"
      },
      "outputs": [
        {
          "name": "stdout",
          "output_type": "stream",
          "text": [
            "Accuracy: 0.7705627705627706\n",
            "Precision: 0.7931034482758621\n",
            "Recall: 0.5287356321839081\n",
            "AUC-ROC: 0.7227011494252873\n"
          ]
        }
      ],
      "source": [
        "bagg = BaggingClassifier(n_estimators = 50, random_state = 10)\n",
        "bagg.fit(X_train, y_train)\n",
        "bagg_pred = bagg.predict(X_test)\n",
        "\n",
        "print(f'Accuracy: {accuracy_score(y_test, bagg_pred)}')\n",
        "print(f'Precision: {precision_score(y_test, bagg_pred)}')\n",
        "print(f'Recall: {recall_score(y_test, bagg_pred)}')\n",
        "print(f'AUC-ROC: {roc_auc_score(y_test, bagg_pred)}')"
      ]
    },
    {
      "cell_type": "markdown",
      "metadata": {
        "id": "gI0ILgbJ_gbr"
      },
      "source": [
        "**Задание 3.4 (1 балл)** Выполните кросс-валидацию на полной обучающей выборке и подберите оптимальные значения гиперпараметров `max_depth` и `min_samples_split` для `Random Forest` с 50 деревьями. Для этого:\n",
        "\n",
        "1. Создайте списки с возможными значениями для перебора.\n",
        "2. Для каждой пары значений проведите кросс-валидацию на полной обучающей выборке. Количество разбиений выберите на ваш вкус. В качестве критерия будем использовать `f1-меру`. Усредните значение критерия по всем прогонам кросс-валидации.\n",
        "3. Выберите ту пару значений, которая даёт наилучшее среднее качество.\n",
        "\n",
        "Обучите случайный лес с подобранными гиперпараметрами на **полной обучающей** выборке. Оцените качество классификации по тем же метрикам. Какая из трёх построенных моделей показала себя лучше?"
      ]
    },
    {
      "cell_type": "code",
      "execution_count": null,
      "metadata": {
        "id": "AZIwb51t_gbs",
        "outputId": "693aaaee-7d43-4046-b115-7244090207a8"
      },
      "outputs": [
        {
          "name": "stdout",
          "output_type": "stream",
          "text": [
            "max_depth: 3\n",
            "min_samples_split: 5\n",
            "F1 score: 0.5882836829425935\n",
            "******\n",
            "max_depth: 3\n",
            "min_samples_split: 10\n",
            "F1 score: 0.5853579107875152\n",
            "******\n",
            "max_depth: 3\n",
            "min_samples_split: 15\n",
            "F1 score: 0.5887289771160739\n",
            "******\n",
            "max_depth: 3\n",
            "min_samples_split: 18\n",
            "F1 score: 0.579421732272076\n",
            "******\n",
            "max_depth: 5\n",
            "min_samples_split: 5\n",
            "F1 score: 0.5713282414307004\n",
            "******\n",
            "max_depth: 5\n",
            "min_samples_split: 10\n",
            "F1 score: 0.6006185107680622\n",
            "******\n",
            "max_depth: 5\n",
            "min_samples_split: 15\n",
            "F1 score: 0.5949643928609695\n",
            "******\n",
            "max_depth: 5\n",
            "min_samples_split: 18\n",
            "F1 score: 0.5890191653075826\n",
            "******\n",
            "max_depth: 15\n",
            "min_samples_split: 5\n",
            "F1 score: 0.6181328745880984\n",
            "******\n",
            "max_depth: 15\n",
            "min_samples_split: 10\n",
            "F1 score: 0.606100631162054\n",
            "******\n",
            "max_depth: 15\n",
            "min_samples_split: 15\n",
            "F1 score: 0.6050048403832142\n",
            "******\n",
            "max_depth: 15\n",
            "min_samples_split: 18\n",
            "F1 score: 0.617170748370822\n",
            "******\n",
            "max_depth: 20\n",
            "min_samples_split: 5\n",
            "F1 score: 0.6278994859048711\n",
            "******\n",
            "max_depth: 20\n",
            "min_samples_split: 10\n",
            "F1 score: 0.606100631162054\n",
            "******\n",
            "max_depth: 20\n",
            "min_samples_split: 15\n",
            "F1 score: 0.6050048403832142\n",
            "******\n",
            "max_depth: 20\n",
            "min_samples_split: 18\n",
            "F1 score: 0.617170748370822\n",
            "******\n"
          ]
        }
      ],
      "source": [
        "from sklearn.ensemble import RandomForestClassifier\n",
        "from sklearn.model_selection import cross_val_score\n",
        "\n",
        "max_depth_list = [3, 5, 15, 20]\n",
        "min_samples_split_list = [5, 10, 15, 18]\n",
        "\n",
        "for depth in max_depth_list:\n",
        "    for min_samples_split in min_samples_split_list:\n",
        "        rf = RandomForestClassifier(n_estimators=50, max_depth = depth,\n",
        "                                    min_samples_split = min_samples_split, random_state = 10)\n",
        "        score = cross_val_score(rf, X_train, y_train, cv=5, scoring='f1')\n",
        "        print(f'max_depth: {depth}')\n",
        "        print(f'min_samples_split: {min_samples_split}')\n",
        "        print(f'F1 score: {score.mean()}')\n",
        "        print('******')"
      ]
    },
    {
      "cell_type": "markdown",
      "metadata": {
        "id": "ymTmMuLJ1BHI"
      },
      "source": [
        "Наулучшее среднее качество модели мы наблюдаем при параметрах:\n",
        "\n",
        "**max_depth: 20**\n",
        "\n",
        "**min_samples_split: 5**\n",
        "\n",
        "F1 score: 0.6278994859048711"
      ]
    },
    {
      "cell_type": "code",
      "execution_count": null,
      "metadata": {
        "id": "5wq_iUJq1BHI",
        "outputId": "bbcb9503-4793-420c-b698-3b47a04c6c5d"
      },
      "outputs": [
        {
          "name": "stdout",
          "output_type": "stream",
          "text": [
            "Accuracy: 0.7445887445887446\n",
            "Precision: 0.75\n",
            "Recall: 0.4827586206896552\n",
            "AUC-ROC: 0.6927681992337166\n"
          ]
        }
      ],
      "source": [
        "rf = RandomForestClassifier(n_estimators=50, max_depth =20, min_samples_split = 5, random_state = 10)\n",
        "rf.fit(X_train, y_train)\n",
        "pred_rf = rf.predict(X_test)\n",
        "print(f'Accuracy: {accuracy_score(y_test, pred_rf)}')\n",
        "print(f'Precision: {precision_score(y_test, pred_rf)}')\n",
        "print(f'Recall: {recall_score(y_test, pred_rf)}')\n",
        "print(f'AUC-ROC: {roc_auc_score(y_test, pred_rf)}')"
      ]
    },
    {
      "cell_type": "code",
      "execution_count": null,
      "metadata": {
        "id": "eH9ihRam1BHJ",
        "outputId": "6612d385-2b62-4ba3-a825-2f2e01e43926"
      },
      "outputs": [
        {
          "data": {
            "text/html": [
              "<div>\n",
              "<style scoped>\n",
              "    .dataframe tbody tr th:only-of-type {\n",
              "        vertical-align: middle;\n",
              "    }\n",
              "\n",
              "    .dataframe tbody tr th {\n",
              "        vertical-align: top;\n",
              "    }\n",
              "\n",
              "    .dataframe thead th {\n",
              "        text-align: right;\n",
              "    }\n",
              "</style>\n",
              "<table border=\"1\" class=\"dataframe\">\n",
              "  <thead>\n",
              "    <tr style=\"text-align: right;\">\n",
              "      <th></th>\n",
              "      <th>Accuracy</th>\n",
              "      <th>Precision</th>\n",
              "      <th>Recall</th>\n",
              "      <th>AUC-ROC</th>\n",
              "    </tr>\n",
              "  </thead>\n",
              "  <tbody>\n",
              "    <tr>\n",
              "      <th>0</th>\n",
              "      <td>0.722944</td>\n",
              "      <td>0.645570</td>\n",
              "      <td>0.586207</td>\n",
              "      <td>0.695881</td>\n",
              "    </tr>\n",
              "    <tr>\n",
              "      <th>1</th>\n",
              "      <td>0.770563</td>\n",
              "      <td>0.793103</td>\n",
              "      <td>0.528736</td>\n",
              "      <td>0.722701</td>\n",
              "    </tr>\n",
              "    <tr>\n",
              "      <th>2</th>\n",
              "      <td>0.744589</td>\n",
              "      <td>0.750000</td>\n",
              "      <td>0.482759</td>\n",
              "      <td>0.692768</td>\n",
              "    </tr>\n",
              "  </tbody>\n",
              "</table>\n",
              "</div>"
            ],
            "text/plain": [
              "   Accuracy  Precision    Recall   AUC-ROC\n",
              "0  0.722944   0.645570  0.586207  0.695881\n",
              "1  0.770563   0.793103  0.528736  0.722701\n",
              "2  0.744589   0.750000  0.482759  0.692768"
            ]
          },
          "execution_count": 77,
          "metadata": {},
          "output_type": "execute_result"
        }
      ],
      "source": [
        "tabl = pd.DataFrame(np.matrix([[0.7229437229437229, 0.6455696202531646, 0.5862068965517241, 0.6958812260536399],\n",
        "                             [0.7705627705627706, 0.7931034482758621, 0.5287356321839081, 0.7227011494252873],\n",
        "                             [0.7445887445887446, 0.75, 0.4827586206896552, 0.6927681992337166]]))\n",
        "tabl = tabl.rename(columns= {0:\"Accuracy\", 1:\"Precision\", 2:\"Recall\", 3:\"AUC-ROC\"})\n",
        "tabl\n",
        "# 0 - DecisionTreeClassifier\n",
        "# 1 - BaggingClassifier\n",
        "# 2 - RandomForestClassifier"
      ]
    },
    {
      "cell_type": "markdown",
      "metadata": {
        "id": "_cSN6j6W1BHJ"
      },
      "source": [
        "**ВЫВОД:**\n",
        "\n",
        "Какая из трёх построенных моделей показала себя лучше?\n",
        "По подобранным гиперпараметрам лучшей моделью оказалась BaggingClassifier, заметим по данным построенной таблицы (tabl) именно у этой модели наибольший показатель AUC-ROC, то есть эта модель больше похожа на \"идеальный\" классификатор."
      ]
    },
    {
      "cell_type": "markdown",
      "metadata": {
        "id": "fMTKTldS_gbs"
      },
      "source": [
        "**Задание 3.5 (0.5 балла)** Постройте график зависимости AUC ROC на тестовой выборке от числа деревьев (`n_estimators`) для случайного леса, обучаемого на **полной обучающей** выборке. Какие выводы можно сделать?"
      ]
    },
    {
      "cell_type": "code",
      "execution_count": null,
      "metadata": {
        "id": "eOjdcjmB_gbs",
        "outputId": "5522fbde-913f-4ba7-8848-ab62386c965f"
      },
      "outputs": [
        {
          "data": {
            "image/png": "[encoded data removed]",
            "text/plain": [
              "<Figure size 1700x800 with 1 Axes>"
            ]
          },
          "metadata": {},
          "output_type": "display_data"
        }
      ],
      "source": [
        "auc_roc_values  = []\n",
        "for i in range(5, 500):\n",
        "    rf = RandomForestClassifier(n_estimators = i, max_depth =20, min_samples_split = 5, random_state = 10)\n",
        "    rf.fit(X_train, y_train)\n",
        "    pred_rf = rf.predict(X_test)\n",
        "    auc_roc_values.append(roc_auc_score(y_test, pred_rf))\n",
        "\n",
        "plt.figure(figsize = (17,8))\n",
        "plt.plot(range(5, 500), auc_roc_values)\n",
        "plt.title('Зависимость AUC ROC на тестовой выборке от числа деревьев')\n",
        "plt.xlabel('Число деревьев (n_estimators)')\n",
        "plt.ylabel('AUC ROC')\n",
        "plt.show()"
      ]
    },
    {
      "cell_type": "markdown",
      "metadata": {
        "id": "loOtsaoa1BHL"
      },
      "source": [
        "**ВЫВОД:**\n",
        "\n",
        "По построенному графику зависимости AUC ROC на тестовой выборке от числа деревьев (n_estimators) для случайного леса можно заметить, что по мере увеличения количества деревьев величина AUC ROC колеблется в конкретном коридоре значений. Предполагаю, что при дальнейшем увеличении n_estimators на данном графике (>500), график выйдет на асимпототу (у случайного леса аналогичная ситуация наблюдается при увеличении числа деревьев и изменении ошибки относительно этого, то есть с определенного N ошибка выходит на асимпототу).\n",
        "\n"
      ]
    },
    {
      "cell_type": "markdown",
      "metadata": {
        "id": "j_ajMsUM_gbs"
      },
      "source": [
        "**Задание 3.6 (0.5 балла)** Для лучшей модели случайного леса из **Задания 3.4** посчитайте важность признаков и постройте bar plot. Какой признак оказался самым важным для определения диабета?"
      ]
    },
    {
      "cell_type": "code",
      "execution_count": null,
      "metadata": {
        "id": "qkY1kBSq_gbs"
      },
      "outputs": [],
      "source": [
        "rf_best = RandomForestClassifier(n_estimators=50, max_depth =20, min_samples_split = 5, random_state = 10)\n",
        "rf_best.fit(X_train, y_train)\n",
        "pred_rf_best = rf_best.predict(X_test)"
      ]
    },
    {
      "cell_type": "code",
      "execution_count": null,
      "metadata": {
        "id": "Ry8N5rXe1BHL",
        "outputId": "1afeab54-15d0-4c85-940c-4b6ccbc47b39"
      },
      "outputs": [
        {
          "data": {
            "text/plain": [
              "array([0.08430374, 0.28038106, 0.0793583 , 0.06169444, 0.07220229,\n",
              "       0.17485902, 0.10668346, 0.14051767])"
            ]
          },
          "execution_count": 138,
          "metadata": {},
          "output_type": "execute_result"
        }
      ],
      "source": [
        "importances = rf_best.feature_importances_\n",
        "importances"
      ]
    },
    {
      "cell_type": "code",
      "execution_count": null,
      "metadata": {
        "id": "XrC7RExF1BHM",
        "outputId": "cb7ffcae-f2e9-4c76-b698-e30e5e53e335"
      },
      "outputs": [
        {
          "data": {
            "image/png": "[encoded data removed]",
            "text/plain": [
              "<Figure size 1700x800 with 1 Axes>"
            ]
          },
          "metadata": {},
          "output_type": "display_data"
        }
      ],
      "source": [
        "importances = rf_best.feature_importances_\n",
        "fig = plt.figure(figsize=(17, 8))\n",
        "\n",
        "plt.bar(X.columns, importances, color = 'orange')\n",
        "plt.title(\"Важность признаков\")\n",
        "plt.xlabel('Название признака')\n",
        "plt.ylabel('Важность')\n",
        "plt.show()\n",
        "# самым важным признаком для определения диабета оказался Glucose"
      ]
    }
  ],
  "metadata": {
    "colab": {
      "provenance": []
    },
    "kernelspec": {
      "display_name": "Python 3 (ipykernel)",
      "language": "python",
      "name": "python3"
    },
    "language_info": {
      "codemirror_mode": {
        "name": "ipython",
        "version": 3
      },
      "file_extension": ".py",
      "mimetype": "text/x-python",
      "name": "python",
      "nbconvert_exporter": "python",
      "pygments_lexer": "ipython3",
      "version": "3.9.13"
    }
  },
  "nbformat": 4,
  "nbformat_minor": 0
}